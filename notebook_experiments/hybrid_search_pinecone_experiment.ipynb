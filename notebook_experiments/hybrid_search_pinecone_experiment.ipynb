{
 "cells": [
  {
   "cell_type": "code",
   "id": "initial_id",
   "metadata": {
    "collapsed": true,
    "ExecuteTime": {
     "end_time": "2025-03-02T07:22:08.346602Z",
     "start_time": "2025-03-02T07:22:08.329904Z"
    }
   },
   "source": [
    "import os\n",
    "\n",
    "from dotenv import load_dotenv\n",
    "\n",
    "load_dotenv()"
   ],
   "outputs": [
    {
     "data": {
      "text/plain": [
       "True"
      ]
     },
     "execution_count": 6,
     "metadata": {},
     "output_type": "execute_result"
    }
   ],
   "execution_count": 6
  },
  {
   "metadata": {
    "ExecuteTime": {
     "end_time": "2025-03-02T07:22:08.711251Z",
     "start_time": "2025-03-02T07:22:08.708023Z"
    }
   },
   "cell_type": "code",
   "source": "os.environ['PINECONE_API_KEY']=os.getenv('PINECONE_API_KEY')",
   "id": "8c5d73d23360b511",
   "outputs": [],
   "execution_count": 7
  },
  {
   "metadata": {
    "ExecuteTime": {
     "end_time": "2025-03-02T07:45:35.189678Z",
     "start_time": "2025-03-02T07:45:35.185138Z"
    }
   },
   "cell_type": "code",
   "source": [
    "from langchain_community.retrievers import PineconeHybridSearchRetriever\n",
    "from pinecone import Pinecone as PineconeClient\n",
    "from pinecone import ServerlessSpec"
   ],
   "id": "53f82c77d11026b",
   "outputs": [],
   "execution_count": 31
  },
  {
   "metadata": {
    "ExecuteTime": {
     "end_time": "2025-03-02T07:45:36.184402Z",
     "start_time": "2025-03-02T07:45:36.177241Z"
    }
   },
   "cell_type": "code",
   "source": "pc = PineconeClient()",
   "id": "2132aac0ebcf598b",
   "outputs": [],
   "execution_count": 32
  },
  {
   "metadata": {
    "ExecuteTime": {
     "end_time": "2025-03-02T07:45:37.037653Z",
     "start_time": "2025-03-02T07:45:36.424506Z"
    }
   },
   "cell_type": "code",
   "source": "pc.list_indexes()",
   "id": "a5a8669474c2fa26",
   "outputs": [
    {
     "data": {
      "text/plain": [
       "[]"
      ]
     },
     "execution_count": 33,
     "metadata": {},
     "output_type": "execute_result"
    }
   ],
   "execution_count": 33
  },
  {
   "metadata": {
    "ExecuteTime": {
     "end_time": "2025-03-02T07:46:07.033750Z",
     "start_time": "2025-03-02T07:46:07.028296Z"
    }
   },
   "cell_type": "code",
   "source": [
    "def create_pinecone_index(indexname: str, drop_index: bool = False):\n",
    "    pc = PineconeClient()\n",
    "    index_list = pc.list_indexes()\n",
    "\n",
    "    print(index_list)\n",
    "    if index_list is not []:\n",
    "        if indexname not in index_list:\n",
    "            print(f\"Index {indexname} does not exist\")\n",
    "            pc.create_index(\n",
    "                name=indexname,\n",
    "                dimension=1536,\n",
    "                metric='dotproduct',\n",
    "                spec=ServerlessSpec(\n",
    "                    cloud='aws',\n",
    "                    region='us-east-1'\n",
    "                )\n",
    "            )\n",
    "        else:\n",
    "            if drop_index:\n",
    "                pc.delete_index(indexname)\n",
    "            else:\n",
    "                return \"Index already exists\"\n",
    "    else:\n",
    "        pc.create_index(\n",
    "            name=indexname,\n",
    "            dimension=1536,\n",
    "            metric='dotproduct',\n",
    "            spec=ServerlessSpec(\n",
    "                cloud='aws',\n",
    "                region='us-east-1'\n",
    "            )\n",
    "        )\n",
    "\n",
    "        return \"Index created\""
   ],
   "id": "2f2bc892cb1af1c9",
   "outputs": [],
   "execution_count": 38
  },
  {
   "metadata": {
    "ExecuteTime": {
     "end_time": "2025-03-02T07:46:12.570751Z",
     "start_time": "2025-03-02T07:46:07.392272Z"
    }
   },
   "cell_type": "code",
   "source": "create_pinecone_index('langchain-hybrid')",
   "id": "66dea3cac19b8101",
   "outputs": [
    {
     "name": "stdout",
     "output_type": "stream",
     "text": [
      "[]\n",
      "Index langchain-hybrid does not exist\n"
     ]
    }
   ],
   "execution_count": 39
  },
  {
   "metadata": {
    "ExecuteTime": {
     "end_time": "2025-03-02T07:47:17.240624Z",
     "start_time": "2025-03-02T07:47:17.230609Z"
    }
   },
   "cell_type": "code",
   "source": "index = pc.Index('langchain-hybrid')",
   "id": "1b017f5aeb2565c3",
   "outputs": [],
   "execution_count": 40
  },
  {
   "metadata": {
    "ExecuteTime": {
     "end_time": "2025-03-02T07:47:26.090682Z",
     "start_time": "2025-03-02T07:47:25.061953Z"
    }
   },
   "cell_type": "code",
   "source": "index.describe_index_stats()",
   "id": "4879e69720f60067",
   "outputs": [
    {
     "data": {
      "text/plain": [
       "{'dimension': 1536,\n",
       " 'index_fullness': 0.0,\n",
       " 'metric': 'dotproduct',\n",
       " 'namespaces': {},\n",
       " 'total_vector_count': 0,\n",
       " 'vector_type': 'dense'}"
      ]
     },
     "execution_count": 42,
     "metadata": {},
     "output_type": "execute_result"
    }
   ],
   "execution_count": 42
  },
  {
   "metadata": {
    "ExecuteTime": {
     "end_time": "2025-03-02T07:47:46.343802Z",
     "start_time": "2025-03-02T07:47:45.059542Z"
    }
   },
   "cell_type": "code",
   "source": "from langchain_openai import OpenAIEmbeddings",
   "id": "b5a17e331459e66a",
   "outputs": [],
   "execution_count": 43
  },
  {
   "metadata": {
    "ExecuteTime": {
     "end_time": "2025-03-02T07:48:09.810902Z",
     "start_time": "2025-03-02T07:48:09.697453Z"
    }
   },
   "cell_type": "code",
   "source": "embeddings = OpenAIEmbeddings(model='text-embedding-3-small')",
   "id": "fb4b949bc4b46124",
   "outputs": [],
   "execution_count": 44
  },
  {
   "metadata": {
    "ExecuteTime": {
     "end_time": "2025-03-02T07:48:27.028697Z",
     "start_time": "2025-03-02T07:48:26.118772Z"
    }
   },
   "cell_type": "code",
   "source": "len(embeddings.embed_query(\"Test Embedding Dimension\"))",
   "id": "fc029e512c79c2a5",
   "outputs": [
    {
     "data": {
      "text/plain": [
       "1536"
      ]
     },
     "execution_count": 46,
     "metadata": {},
     "output_type": "execute_result"
    }
   ],
   "execution_count": 46
  },
  {
   "metadata": {
    "ExecuteTime": {
     "end_time": "2025-03-02T07:49:42.884311Z",
     "start_time": "2025-03-02T07:49:42.016864Z"
    }
   },
   "cell_type": "code",
   "source": "from pinecone_text.sparse import BM25Encoder",
   "id": "4dc0fa1f127eccd7",
   "outputs": [],
   "execution_count": 47
  },
  {
   "metadata": {
    "ExecuteTime": {
     "end_time": "2025-03-02T07:50:45.777218Z",
     "start_time": "2025-03-02T07:50:36.206175Z"
    }
   },
   "cell_type": "code",
   "source": "encoder = BM25Encoder().default()",
   "id": "80d6f9ce37e358fb",
   "outputs": [],
   "execution_count": 49
  },
  {
   "metadata": {
    "ExecuteTime": {
     "end_time": "2025-03-02T07:51:54.880845Z",
     "start_time": "2025-03-02T07:51:54.794005Z"
    }
   },
   "cell_type": "code",
   "source": [
    "from langchain_community.document_loaders import TextLoader\n",
    "\n",
    "loader = TextLoader(file_path=\"/Users/mohitverma/Downloads/db2ohk8mp.txt\").load()"
   ],
   "id": "9007b1a01bff204e",
   "outputs": [],
   "execution_count": 55
  },
  {
   "metadata": {
    "ExecuteTime": {
     "end_time": "2025-03-02T07:51:55.563799Z",
     "start_time": "2025-03-02T07:51:55.555612Z"
    }
   },
   "cell_type": "code",
   "source": "loader",
   "id": "abada7be8a921892",
   "outputs": [
    {
     "data": {
      "text/plain": [
       "[Document(metadata={'source': '/Users/mohitverma/Downloads/db2ohk8mp.txt'}, page_content=\"Call Direction: Inbound\\n\\n<br>StartMs:0.64|EndMs:1.14|customer:Hello?<br>StartMs:2.4|EndMs:5.62|Agent:Good afternoon. May I speak to Renee? Can you hear me?<br>StartMs:2.88|EndMs:3.38|customer:Hello?<br>StartMs:5.12|EndMs:7.06|customer:Yes. It is me. Yes. I can.<br>StartMs:6.64|EndMs:14.405|Agent:Hi. My name is Raven from Satteroff Legal Group on a recorded line calling you about your tech on file. Do you have time to complete that?<br>StartMs:11.165|EndMs:11.665|customer:Okay.<br>StartMs:14.845|EndMs:17.505|customer:I actually do. And this is about the talcum powder. Right?<br>StartMs:17.79|EndMs:21.01|Agent:Yes, ma'am. The tech about the survey you submitted to us.<br>StartMs:21.91|EndMs:32.975|customer:Wait. Wait. Wait. Yeah. About the okay. So I've I actually have to tell you something. The only reason I submitted it is because I didn't feel like changing all the info, but it's actually not for me. It's for my mom. My mother actually<br>StartMs:22.27|EndMs:23.01|Agent:Have you<br>StartMs:33.54|EndMs:36.92|Agent:Okay. Wait. Before you begin, I have to state it's just<br>StartMs:36.155|EndMs:38.09|customer:yeah. Yeah. Yeah.<br>StartMs:38.02|EndMs:61.775|Agent:please be advised that this call may be recorded for quality and training purposes, and the recording will be subject to a prerecorded AI call greater software. Your responses will be recorded exactly as you state them and review by our staff. You can So the information you provide is very important. Should you have a case, you may be asked to verify your responses by affidavit so that complete honesty is very important. Do you agree to provide information to the best of your knowledge?<br>StartMs:40.23|EndMs:40.73|customer:Okay.<br>StartMs:42.71|EndMs:43.21|customer:Yes.<br>StartMs:48.945|EndMs:50.085|customer:Okay. Okay.<br>StartMs:62.585|EndMs:63.245|customer:Yes, ma'am.<br>StartMs:63.755|EndMs:71.78|Agent:Okay. And are you willing to affirm on a penalty that you have not sought legal representation or advice from any of the law firms for this matter?<br>StartMs:72.81|EndMs:96.06|customer:No. I actually did, and I just lost lost touch. Well, okay. It was my mother. She actually did, and she lost with them. And they just, like, disregarded her. So she's trying to find someone to represent her, actually, and then I just went through and saw this. So that's what happened. She actually had cancer from the talcum powder, and she was diagnosed with cancer, had the surgery, had went to chemo, did it all.<br>StartMs:96.775|EndMs:97.595|Agent:I'm sorry.<br>StartMs:98.065|EndMs:114.995|customer:And the lawyer disregarded her. She had tried to file a case. They disregarded her. It was, like, the same way I'm doing with you. Signed up, did everything, and they just disregarded her. Like, they sent her a letter saying, they can't they can't represent her or something like that. So she needs she's trying to find a lawyer that can.<br>StartMs:116.37|EndMs:123.03|Agent:I'm sorry to hear that. So did your mom sign with that law firm, or did y'all just speak with them?<br>StartMs:125.25|EndMs:132.185|customer:Okay. So didn't sign. She did just like the way me and yours. She filled out that just like that online. And then<br>StartMs:129.515|EndMs:130.015|Agent:Yes.<br>StartMs:133.365|EndMs:151.705|customer:she never they did oh, and then they sent her a letter or they called her talking about, okay. We received all your info. We'll be in touch with you, and that was it. And then never heard from her again. Never heard from them again. Like that. Yeah. So, no, she didn't send no, Corky. Come on. You come inside. You're hungry. Come on, baby. Come on. Mom, Corky's hungry.<br>StartMs:145.245|EndMs:145.745|Agent:Okay.<br>StartMs:152.885|EndMs:154.025|customer:Come on. Come on.<br>StartMs:156.04|EndMs:184.655|customer:Okay. The only thing hold on, ma'am. The only thing I'm saying why? It's because I don't know why they're both going around licking the ground, and now Corky does. But he went listen. Corky went back there with the cat food, and he got the thing one, and he's trying to eat whatever he can find back. Yeah. Look. It's it says, hello, Martha. Okay. Hold on. I re I reviewed the Telkom case inquiry that was submitted to me. Okay. Did you hear yeah. That's that's as far as it went. She got the letter, and that's all it said. So that's as far as it went. So, no, she didn't sign anything.<br>StartMs:158.065|EndMs:158.565|Agent:Okay.<br>StartMs:179.575|EndMs:180.395|Agent:Yes, ma'am.<br>StartMs:185.28|EndMs:185.78|Agent:Okay.<br>StartMs:187.2|EndMs:192.98|Agent:So wait. You're saying that you said that she did receive I mean, they did receive her documents<br>StartMs:194.005|EndMs:198.985|Agent:such as just proving that she do have cancer, or what document did she send to them?<br>StartMs:197.18|EndMs:203.445|customer:No. Just just y'all all they received was the way I did it for you right now, how there was a questionnaire.<br>StartMs:204.09|EndMs:204.59|Agent:Mhmm.<br>StartMs:204.385|EndMs:212.64|customer:And then she filled out questionnaire, just the real three questions. Did you have it? Did this, that, and that was it? Sent it in. Just the way we did it now, me and you.<br>StartMs:213.815|EndMs:222.8|customer:Okay. Because how we do it is I I got it on Facebook. All it said was, did you have it? Yes. What year was it? This one. And then you press a check, and then it sends off. That's all.<br>StartMs:224.4|EndMs:230.82|customer:It's a real quick three questions, and that was it. Yeah. That was it. She didn't she didn't sign anything. No obligations. No nothing.<br>StartMs:231.975|EndMs:237.915|Agent:Okay. And I have a question for you. Do you have power of attorney for your mom?<br>StartMs:235.775|EndMs:236.275|customer:Yes.<br>StartMs:239.49|EndMs:241.11|customer:No. There's no attorney. No.<br>StartMs:242.92|EndMs:246.44|Agent:Okay. No. Power of attorney. So just you could<br>StartMs:244.29|EndMs:244.79|customer:No.<br>StartMs:246.215|EndMs:250.955|customer:Oh, am I proud? Yes. Yes. Yes. Yes. Actually, no. I'm not. She's pretty coherent.<br>StartMs:247.56|EndMs:248.06|Agent:yes.<br>StartMs:251.815|EndMs:270.505|customer:It's just that she doesn't like, this is what it is. She had told me, I've already done it. I'm tired of trying to get a lawyer. So she gave up, and that's why I'm speaking on her behalf because she says she gave up. But I know my mom has a very good case because she did shed cancer. My I said the only reason I'm speaking on her behalf is because I know she has a very good case.<br>StartMs:268.825|EndMs:273.005|Agent:Alright. So what do I do about this? Let her I speak with her.<br>StartMs:274.01|EndMs:275.63|customer:Yeah. If you'd like to, could you?<br>StartMs:276.49|EndMs:280.11|customer:Do you wanna call you can call her phone number if you'd like. She's right next to her telephone.<br>StartMs:279.02|EndMs:279.68|Agent:Oh, wait.<br>StartMs:281.645|EndMs:287.745|Agent:Yes. I'm just I'm just trying to get consent that I could speak with you. I could speak with both of you at this time, but<br>StartMs:286.015|EndMs:287.155|customer:Go ahead. Go ahead.<br>StartMs:291.69|EndMs:292.67|Agent:alright. Hello?<br>StartMs:293.48|EndMs:293.98|customer:Yes.<br>StartMs:294.49|EndMs:299.125|Agent:Oh, no. I was trying to speak with your mom just to get consent that I could speak with you.<br>StartMs:297.64|EndMs:298.14|customer:Okay.<br>StartMs:299.865|EndMs:306.445|customer:Okay. Go ahead. No. Actually, you could talk to her if you like. She's coherent. Yeah. I'll hand her the phone. Okay? One minute.<br>StartMs:306.2|EndMs:306.7|Agent:Okay.<br>StartMs:307.305|EndMs:317.2|customer:K. Here, mom. These are the lawyers. It's just real fast. If you want if you don't want to What? Group of lawyers. The one that I just signed, I don't know. I don't know. Ask them all that. Whatever you wanna do. Hello?<br>StartMs:317.875|EndMs:335.705|Agent:Hi. Good afternoon. My name is Raven with Saddle Rock Legal Group. I was speaking with your daughter. I just wanted to get consent that I could speak with her about your talcum powder case. And just to confirm that you haven't signed with another law firm can you hear me now?<br>StartMs:332.72|EndMs:334.34|customer:I can't really hear you, ma'am.<br>StartMs:336.645|EndMs:337.385|customer:Not really.<br>StartMs:338.54|EndMs:339.92|Agent:Hello? Can you hear me?<br>StartMs:341.205|EndMs:342.345|customer:Let me see. Speak.<br>StartMs:342.94|EndMs:344.24|Agent:Yes. Can you hear me?<br>StartMs:344.79|EndMs:345.85|customer:A little bit more.<br>StartMs:347.265|EndMs:348.565|Agent:Yes. Can you hear me?<br>StartMs:349.03|EndMs:351.095|customer:Okay. Yeah. I can hear you.<br>StartMs:349.985|EndMs:358.21|Agent:Okay. So I was just trying to get consent that I could speak with your daughter, and I also wanted to know, did you start with another law firm?<br>StartMs:359.01|EndMs:361.35|customer:I haven't signed with nobody. I I<br>StartMs:362.21|EndMs:377.895|customer:I put in a claim to some to a firm of lawyers. I forgot the name, but I still have the paperwork. And they just sent me a letter of denial. They didn't give me no reason, and I was just, like, despondent, and I just left it.<br>StartMs:378.855|EndMs:384.795|Agent:Okay. So would you like to answer the questions or would you want me to speak with your daughter?<br>StartMs:386.135|EndMs:391.835|customer:No. My daughter has nothing to do with it. She just took it upon herself because she found the she found it<br>StartMs:388.34|EndMs:389.33|Agent:Just okay.<br>StartMs:392.775|EndMs:396.15|customer:the the claim for the the cancer powder<br>StartMs:397.49|EndMs:397.99|customer:lawyers.<br>StartMs:398.655|EndMs:400.835|Agent:Okay. What is your first name,<br>StartMs:401.49|EndMs:402.55|customer:My name is Martha.<br>StartMs:403.34|EndMs:405.04|Agent:Martha. And your last name?<br>StartMs:405.745|EndMs:406.245|customer:Copas,<br>StartMs:407.42|EndMs:409.36|Agent:Could you spell that for me, please?<br>StartMs:409.985|EndMs:411.445|customer:b o p a s.<br>StartMs:414.715|EndMs:415.215|Agent:Okay.<br>StartMs:425.8|EndMs:435.055|Agent:Alright. So I just have to state this. I stated it with your daughter already, but I have to because you are I just have to make sure that you<br>StartMs:436.62|EndMs:457.62|Agent:you do agree to provide accurate information to the best of your knowledge, and I'm gonna let you know that this is a recorded line. So it will be recorded for quality and training purposes, and the recording will be subject to a third party AI call grading software. So your responses will be recorded exactly as you state them and review by our staff and cancel.<br>StartMs:457.265|EndMs:458.805|customer:What law firm is this?<br>StartMs:458.88|EndMs:461.14|Agent:This is with Saddle Rock Legal Group.<br>StartMs:462.385|EndMs:465.42|customer:Oh, the Saddle Lock. Can you spell that for me?<br>StartMs:464.015|EndMs:464.755|Agent:Yes, ma'am.<br>StartMs:465.695|EndMs:469.635|Agent:So s as in Sam, a as apple.<br>StartMs:468.86|EndMs:472.64|customer:Hold on. Hold on for a minute. Okay. Go ahead.<br>StartMs:472.99|EndMs:482.295|Agent:Okay. S as Sam, a as apple, d as dog, d as dog, l as love, e as elephant,<br>StartMs:483.555|EndMs:485.095|Agent:r rock.<br>StartMs:486.97|EndMs:488.91|Agent:Just Rock, r o k.<br>StartMs:487.74|EndMs:496.545|customer:Let me see. S let let me let me let me give it to you again. S a d l e l o v e, and I'm at e.<br>StartMs:496.405|EndMs:504.105|Agent:No. No. No. No. So s a d d l e, Rock, r o c k.<br>StartMs:503.59|EndMs:507.525|customer:S a d d e l e.<br>StartMs:507.63|EndMs:509.33|Agent:No. L e.<br>StartMs:508.465|EndMs:508.965|customer:Okay.<br>StartMs:510.145|EndMs:511.505|customer:S a d d<br>StartMs:512.99|EndMs:513.89|Agent:L e<br>StartMs:515.17|EndMs:515.67|customer:Okay.<br>StartMs:516.425|EndMs:518.525|Agent:Enrock, r o c k,<br>StartMs:520.69|EndMs:521.19|customer:Okay.<br>StartMs:521.545|EndMs:522.35|Agent:Legal Group.<br>StartMs:523.63|EndMs:542.7|Agent:Okay. So your responses will be recorded exactly as you state them and review by our staff and counsel. The information you provide today is very important. Should you have a case, you may be asked to verify your responses by affidavit, so your complete honesty is very important. Do you agree to provide accurate information to the best of your knowledge?<br>StartMs:546.185|EndMs:547.78|customer:You said it too fast for me.<br>StartMs:548.735|EndMs:553.475|Agent:Okay. So I was just asking, do you agree to provide accurate information to the best of your knowledge?<br>StartMs:554.02|EndMs:558.925|customer:To the best of my knowledge because it's been so long. I don't even remember. I have to look at the paperwork.<br>StartMs:560.5|EndMs:561|Agent:Okay.<br>StartMs:562.635|EndMs:569.535|Agent:And are you willing to affirm on a penalty that you have not sought legal representation or advice from any other law firm for this matter?<br>StartMs:570.83|EndMs:573.445|customer:Yes. I have never had no advice from no one.<br>StartMs:574.22|EndMs:581.835|Agent:Okay. And you haven't previously signed documents either physically or electronically regarding this matter with any other firm?<br>StartMs:582.6|EndMs:592.485|customer:No. None. The the firm that I I forgot what the name of the firm is, but I have I have the paperwork. They just they took the claim, but they<br>StartMs:593.345|EndMs:607.8|customer:I thought that they had progressed with the claim with a claim. But before I knew it, they sent me the the letter that I they were not any longer going to go ahead with my case, and that was it.<br>StartMs:608.725|EndMs:610.585|customer:But I didn't sign anything. Nothing.<br>StartMs:613.79|EndMs:614.29|Agent:Okay.<br>StartMs:616.255|EndMs:617.635|Agent:And what type of temp<br>StartMs:616.43|EndMs:618.13|customer:That was about five years ago.<br>StartMs:618.895|EndMs:621.715|Agent:five years ago? Okay. And what type of<br>StartMs:620.59|EndMs:624.05|customer:I think. I'm not sure. But it it it's been quite a few years ago.<br>StartMs:631.95|EndMs:636.61|customer:To give you more information, I would have to go and look at the paperwork and then give you some accurate<br>StartMs:637.47|EndMs:647.005|customer:facts or knowledge because I don't really remember. I don't even remember when I had the surgery. It's been so long. It's been, like, maybe twelve years or something.<br>StartMs:647.42|EndMs:653.055|Agent:Twelve years ago? Okay. And what type of were you officially diagnosed with?<br>StartMs:648.97|EndMs:650.67|customer:Something. I'm not sure.<br>StartMs:654.385|EndMs:684.05|customer:Oh, yes. I was diagnosed with with with ovarian cancer. And because of that cancer, when they went in, they had to do a five surgery five five surgeries and one. Well, after I started with the going to the doctors and, pardon me, with the the, appointments, they found that I had, other things that, were going wrong very wrong with my on top of the ovarian cancer.<br>StartMs:685.15|EndMs:687.17|customer:So I had five surgeries and one<br>StartMs:685.485|EndMs:686.145|Agent:I'm sorry?<br>StartMs:689.345|EndMs:691.525|customer:ovarian cancer operation.<br>StartMs:693.41|EndMs:696.07|Agent:I'm sorry to hear that. And how old are you currently?<br>StartMs:697.64|EndMs:698.78|customer:How old am I?<br>StartMs:698.775|EndMs:699.595|Agent:Yes, ma'am.<br>StartMs:700.52|EndMs:701.9|customer:Eighty seven years old.<br>StartMs:702.775|EndMs:708.92|Agent:Okay. And do you remember the exact date that you got diagnosed with ovarian cancer?<br>StartMs:709.495|EndMs:717.01|customer:No. I don't remember. It's been quite a few years ago. I like I was saying, like, maybe twelve years ago. I'm not sure.<br>StartMs:717.95|EndMs:725.975|customer:And then I started they started re re referring me to the different doctors, and I went to the cancer care center. And then they<br>StartMs:727.19|EndMs:731.05|customer:the doctor confirmed it after different doctors had the<br>StartMs:731.91|EndMs:744.8|customer:appointments with different doctors. Then I went to the cancer care center here in Pomona, and they they diagnosed me with the cancer positively. And they referred me to to Loma Linda, and that's where I had my cat my surgery.<br>StartMs:747.06|EndMs:747.56|Agent:Okay.<br>StartMs:748.365|EndMs:752.065|Agent:And have you ever used Justin and Justin baby powder?<br>StartMs:752.915|EndMs:754.195|customer:I used to use it a long<br>StartMs:755.075|EndMs:773.685|customer:I used to use that. I used to use so so the the that's the only thing we used to have at one time, you know, way back then. I used to use that all the time because I was raising my my last child, I think, or two. And I I had it all the time, so I would use it. Use little, like, like, as a deodorant and private parts.<br>StartMs:775.16|EndMs:778.38|Agent:And have you ever used Justin Justin shower to shower?<br>StartMs:779.28|EndMs:780.82|customer:Yeah. I used to use the products.<br>StartMs:782.115|EndMs:785.415|Agent:Okay. So you did mention that you used<br>StartMs:786.435|EndMs:791.37|Agent:did you apply both to the private area or just the shower to shower?<br>StartMs:792.785|EndMs:799.58|customer:Well, I don't know. I guess it probably went to that area, but I don't remember just directly putting it there. But I guess, you know, I<br>StartMs:801.945|EndMs:805.245|Agent:Okay. Would you say that was the shower to shower or the baby powder?<br>StartMs:802.84|EndMs:803.855|customer:I'm just telling<br>StartMs:806.415|EndMs:806.915|customer:Pardon?<br>StartMs:807.4|EndMs:810.94|Agent:Would you say that was the shower to shower or the baby powder?<br>StartMs:811.35|EndMs:815.21|customer:Well, both. I used to use them like a deodorant, you know, like, to put down there.<br>StartMs:815.64|EndMs:816.14|Agent:Mhmm.<br>StartMs:817.35|EndMs:821.185|customer:And and the shower to shower to shower, and that's it.<br>StartMs:827.26|EndMs:831.84|Agent:And when did you first using the baby powder? First start using the baby<br>StartMs:831.32|EndMs:835.815|customer:I don't I really don't remember because I used to use it all the time with my kids. You know?<br>StartMs:837.495|EndMs:838.875|customer:So I don't really remember.<br>StartMs:840.455|EndMs:846.01|customer:But I used to buy it just because we didn't have anything else by that at that time, you know, way back<br>StartMs:848.15|EndMs:853.015|Agent:So I will need to know your best estimate for the year that you start using<br>StartMs:850.47|EndMs:850.97|customer:then.<br>StartMs:853.885|EndMs:856.305|customer:Oh my goodness. Maybe<br>StartMs:856.275|EndMs:856.775|Agent:it.<br>StartMs:860.045|EndMs:862.625|customer:maybe seventy two.<br>StartMs:863.13|EndMs:864.67|Agent:Nineteen seventy two.<br>StartMs:867.75|EndMs:869.45|customer:Seventy two, seventy.<br>StartMs:871.165|EndMs:876.385|customer:Maybe even before that. No. I think seventy is I could go back to seventy.<br>StartMs:877.405|EndMs:894.005|customer:Can I be tough? I didn't wash her yesterday. Yeah. I I just said that every day. Yeah. Well, once a week, Lynn Lina. Because look at excuse me. Excuse me. For me? Lina. Renee. Excuse me. Just give me a few minutes. I want shower here again. Do it again. Look.<br>StartMs:877.91|EndMs:878.41|Agent:Okay.<br>StartMs:881.51|EndMs:883.53|Agent:And would you say it was nineteen?<br>StartMs:892.055|EndMs:892.555|Agent:Okay.<br>StartMs:897.4|EndMs:898.54|customer:Okay. Go ahead, ma'am.<br>StartMs:899.87|EndMs:906.975|Agent:When would you say well, would you say that you start the baby powder in nineteen seventy two also or just the shower to shower?<br>StartMs:906.895|EndMs:919.2|customer:Probably so. No. I used to we used the the products. That's what I'm I'm trying to say. I used to use them because that's what we had. And I think I can go back because I'm trying trying to think for my the the the<br>StartMs:920.535|EndMs:927.195|customer:as far back as I can remember is when my son was born, probably. That's a that that's as far back as I can go.<br>StartMs:927.54|EndMs:930.28|Agent:Okay. And when was the last time you used it?<br>StartMs:930.93|EndMs:936.39|customer:Oh, I don't know. All that time, I guess up until maybe before<br>StartMs:937.805|EndMs:947.265|customer:I my son was I don't know. When he was already maybe two years old. I don't remember, ma'am. Those are things that I don't we I didn't pay attention to.<br>StartMs:948.66|EndMs:951.56|Agent:Okay. So I will need to know the best estimate.<br>StartMs:952.42|EndMs:958.495|Agent:What so was your son born in nineteen seventy two, or he was born after that<br>StartMs:957.625|EndMs:960.845|customer:He was in nineteen seventy. And then<br>StartMs:960.155|EndMs:960.895|Agent:in nineteen<br>StartMs:961.785|EndMs:972.68|customer:and then my my other son was born in nineteen seventy two. But I and and I use them all the time, so I I don't know to tell you really because, you know, you don't pay attention to those things.<br>StartMs:973.065|EndMs:973.565|Agent:Okay.<br>StartMs:976.985|EndMs:982.73|Agent:So you mentioned that when your son was two years old, you stopped using it. Is that correct?<br>StartMs:985.67|EndMs:1001.23|customer:I think so. I'm I'm not sure what happened or if if I still continued using it, but I don't think I because I think it was past the age of using it. And I've been since I had to buy it for him, I used to use it too, you know, all the time.<br>StartMs:1002.4|EndMs:1002.9|Agent:Mhmm.<br>StartMs:1003.84|EndMs:1006.74|Agent:So when would you say you stop using it on yourself?<br>StartMs:1007.765|EndMs:1011.705|customer:Oh my goodness. Again. I don't know.<br>StartMs:1013.405|EndMs:1013.905|Agent:Okay.<br>StartMs:1013.845|EndMs:1017.54|customer:Probably, like I said, when he was maybe two years old. I'm I'm not certain.<br>StartMs:1018.365|EndMs:1021.94|Agent:Okay. So in nineteen seventy four, that's when he was<br>StartMs:1025.28|EndMs:1025.78|Agent:two.<br>StartMs:1034.935|EndMs:1043.18|Agent:And is it the same for the shower to shower? Did you stop using it when he was also two years old at the shower to shower? Or<br>StartMs:1042.405|EndMs:1048.665|customer:No. I kept using the shower to shower. No. And then and then and then what was it?<br>StartMs:1050.56|EndMs:1059.845|customer:Something else came along, and I stopped using it. I liked it better. But it wasn't until way after that that something else came, you know, because that's all we didn't have choice of much.<br>StartMs:1061.765|EndMs:1071.25|customer:So something else came up. I don't even remember what it was. I think it was I don't know. Some purple. I I remember the color of the of the thing, but I don't remember what it was like.<br>StartMs:1074.91|EndMs:1075.89|customer:I don't remember.<br>StartMs:1077.135|EndMs:1107.36|customer:And I liked it better, so I stopped using it. I don't I don't really remember, ma'am. I don't remember those those dates. I don't remember because you don't pay attention when you stop, when you start, you know, just at random. Yeah. I'm I'm just talking to you because I don't really remember. But I do remember that something else came, and my son didn't need it. So I started using some something else. It was something purple. I don't even remember the name of it, but it was a purple little a container of shower to shower.<br>StartMs:1077.27|EndMs:1077.77|Agent:Okay.<br>StartMs:1109|EndMs:1112.14|Agent:Okay. And when would you say you stopped using the shower to shower?<br>StartMs:1112.765|EndMs:1121.81|customer:I tell you about when my son was about two years old, and after that sometime after that, I don't remember, Maybe two thousand<br>StartMs:1122.67|EndMs:1127.965|customer:three or four, something other than that came on the market, and I started using it.<br>StartMs:1128.765|EndMs:1132.305|Agent:Okay. So two thousand three or two thousand four.<br>StartMs:1138.98|EndMs:1142.865|Agent:And what city do you live in now? Well, what state? I'm sorry.<br>StartMs:1141.8|EndMs:1142.94|customer:I live in Pomona,<br>StartMs:1143.825|EndMs:1144.805|Agent:In what state?<br>StartMs:1144.2|EndMs:1144.7|customer:California,<br>StartMs:1145.745|EndMs:1146.245|Agent:California.<br>StartMs:1145.995|EndMs:1146.495|customer:California.<br>StartMs:1159.78|EndMs:1160.28|Agent:Okay.<br>StartMs:1165.345|EndMs:1180.295|Agent:So, unfortunately, we cannot accept your potential case at this time. As such, we're not able to represent you and will not be filing a lawsuit on your behalf. But this does not mean you don't have a case, so I recommend you to reach out to another law firm for a second opinion. Do you have any questions for me?<br>StartMs:1182.075|EndMs:1207.83|customer:No. Except that I went through all that, and then you tell me that I don't even qualify. So that's why that's the reason that I gave up with the others because I heard from different people that you go through a whole lot of questions and this and that and the other, and then they tell you we don't qualify. So then you give all your information. You get the law firm has all your information, and then you don't even qualify. And that's the reason that I was so turned off. You know?<br>StartMs:1208.62|EndMs:1210|Agent:I'm sorry to hear this.<br>StartMs:1208.77|EndMs:1210.23|customer:And I don't think that's right.<br>StartMs:1211.685|EndMs:1226.74|Agent:I'm sorry to hear that. But it's the questionnaire I put you on based on what you gave me into the questionnaire, and you do not qualify. But this does not mean you don't have a case. As I stated, you're just not with the Saddle Rock Legal Group.<br>StartMs:1227.53|EndMs:1233.585|customer:What what was the what what didn't I qualify for about? I had the I had the surgery.<br>StartMs:1231.905|EndMs:1232.645|Agent:So there's<br>StartMs:1234.625|EndMs:1240.03|Agent:so there's the current lack of evidence to see our case criteria based on what you told me.<br>StartMs:1234.765|EndMs:1235.905|customer:I had the cancer.<br>StartMs:1241.06|EndMs:1250.415|customer:Well, you know, you shouldn't have that out there because so many people don't remember. I mean, you don't remember when you stopped, when you started out because there's there I mean, it doesn't<br>StartMs:1251.435|EndMs:1261.08|customer:it doesn't come to mind. Okay. I started using this product. I start I stopped using this product and this and that. You don't make notes of those things, you know, when it's been so long.<br>StartMs:1262.275|EndMs:1266.055|customer:And I don't think it's fair. They put they they<br>StartMs:1267.155|EndMs:1287.74|customer:they they put this advertisement out, and then you give all your information, and then the law firm has all your information. And how do I know that you're really a real, real legal place? How do I know? How do I know I'm talking to somebody that's really a righteous firm? I know that I I remember the name of it, but I don't know that you are.<br>StartMs:1280.805|EndMs:1281.305|Agent:Okay.<br>StartMs:1288.62|EndMs:1291.68|Agent:Okay. Yes. We are. So thank you so much for speaking.<br>StartMs:1290.14|EndMs:1292.56|customer:You might be somebody that just wants all my information.<br>StartMs:1293.705|EndMs:1298.285|Agent:Alright. Thank you so much for taking the time to speak with me at Federal Legal Group. Have a great day.\")]"
      ]
     },
     "execution_count": 56,
     "metadata": {},
     "output_type": "execute_result"
    }
   ],
   "execution_count": 56
  },
  {
   "metadata": {
    "ExecuteTime": {
     "end_time": "2025-03-02T07:57:40.075106Z",
     "start_time": "2025-03-02T07:57:40.062843Z"
    }
   },
   "cell_type": "code",
   "source": [
    "from langchain_text_splitters import RecursiveCharacterTextSplitter\n",
    "from langchain_core.documents import Document"
   ],
   "id": "5928e962aeb4edeb",
   "outputs": [],
   "execution_count": 58
  },
  {
   "metadata": {
    "ExecuteTime": {
     "end_time": "2025-03-02T07:59:59.895531Z",
     "start_time": "2025-03-02T07:59:59.877987Z"
    }
   },
   "cell_type": "code",
   "source": [
    "def split_text(text: list[Document], chunk_size: int = 500, chunk_overlap: int=100) -> list[Document]:\n",
    "    text_splitter = RecursiveCharacterTextSplitter(chunk_size=chunk_size, chunk_overlap=chunk_overlap)\n",
    "    return text_splitter.split_documents(text)\n"
   ],
   "id": "ffb109b55aceb62f",
   "outputs": [],
   "execution_count": 75
  },
  {
   "metadata": {
    "ExecuteTime": {
     "end_time": "2025-03-02T08:00:00.189584Z",
     "start_time": "2025-03-02T08:00:00.178406Z"
    }
   },
   "cell_type": "code",
   "source": "doc_chunks = split_text(loader)",
   "id": "79339dc77b8c8686",
   "outputs": [],
   "execution_count": 76
  },
  {
   "metadata": {
    "ExecuteTime": {
     "end_time": "2025-03-02T08:00:02.812671Z",
     "start_time": "2025-03-02T08:00:02.786198Z"
    }
   },
   "cell_type": "code",
   "source": "doc_chunks",
   "id": "4d81974d1ea65a27",
   "outputs": [
    {
     "data": {
      "text/plain": [
       "[Document(metadata={'source': '/Users/mohitverma/Downloads/db2ohk8mp.txt'}, page_content='Call Direction: Inbound'),\n",
       " Document(metadata={'source': '/Users/mohitverma/Downloads/db2ohk8mp.txt'}, page_content='<br>StartMs:0.64|EndMs:1.14|customer:Hello?<br>StartMs:2.4|EndMs:5.62|Agent:Good afternoon. May I speak to Renee? Can you hear me?<br>StartMs:2.88|EndMs:3.38|customer:Hello?<br>StartMs:5.12|EndMs:7.06|customer:Yes. It is me. Yes. I can.<br>StartMs:6.64|EndMs:14.405|Agent:Hi. My name is Raven from Satteroff Legal Group on a recorded line calling you about your tech on file. Do you have time to complete that?<br>StartMs:11.165|EndMs:11.665|customer:Okay.<br>StartMs:14.845|EndMs:17.505|customer:I'),\n",
       " Document(metadata={'source': '/Users/mohitverma/Downloads/db2ohk8mp.txt'}, page_content=\"that?<br>StartMs:11.165|EndMs:11.665|customer:Okay.<br>StartMs:14.845|EndMs:17.505|customer:I actually do. And this is about the talcum powder. Right?<br>StartMs:17.79|EndMs:21.01|Agent:Yes, ma'am. The tech about the survey you submitted to us.<br>StartMs:21.91|EndMs:32.975|customer:Wait. Wait. Wait. Yeah. About the okay. So I've I actually have to tell you something. The only reason I submitted it is because I didn't feel like changing all the info, but it's actually not for me. It's for my\"),\n",
       " Document(metadata={'source': '/Users/mohitverma/Downloads/db2ohk8mp.txt'}, page_content=\"it is because I didn't feel like changing all the info, but it's actually not for me. It's for my mom. My mother actually<br>StartMs:22.27|EndMs:23.01|Agent:Have you<br>StartMs:33.54|EndMs:36.92|Agent:Okay. Wait. Before you begin, I have to state it's just<br>StartMs:36.155|EndMs:38.09|customer:yeah. Yeah. Yeah.<br>StartMs:38.02|EndMs:61.775|Agent:please be advised that this call may be recorded for quality and training purposes, and the recording will be subject to a prerecorded AI call\"),\n",
       " Document(metadata={'source': '/Users/mohitverma/Downloads/db2ohk8mp.txt'}, page_content='for quality and training purposes, and the recording will be subject to a prerecorded AI call greater software. Your responses will be recorded exactly as you state them and review by our staff. You can So the information you provide is very important. Should you have a case, you may be asked to verify your responses by affidavit so that complete honesty is very important. Do you agree to provide information to the best of your'),\n",
       " Document(metadata={'source': '/Users/mohitverma/Downloads/db2ohk8mp.txt'}, page_content=\"so that complete honesty is very important. Do you agree to provide information to the best of your knowledge?<br>StartMs:40.23|EndMs:40.73|customer:Okay.<br>StartMs:42.71|EndMs:43.21|customer:Yes.<br>StartMs:48.945|EndMs:50.085|customer:Okay. Okay.<br>StartMs:62.585|EndMs:63.245|customer:Yes, ma'am.<br>StartMs:63.755|EndMs:71.78|Agent:Okay. And are you willing to affirm on a penalty that you have not sought legal representation or advice from any of the law firms for this\"),\n",
       " Document(metadata={'source': '/Users/mohitverma/Downloads/db2ohk8mp.txt'}, page_content=\"penalty that you have not sought legal representation or advice from any of the law firms for this matter?<br>StartMs:72.81|EndMs:96.06|customer:No. I actually did, and I just lost lost touch. Well, okay. It was my mother. She actually did, and she lost with them. And they just, like, disregarded her. So she's trying to find someone to represent her, actually, and then I just went through and saw this. So that's what happened. She actually had cancer from the talcum powder, and she was\"),\n",
       " Document(metadata={'source': '/Users/mohitverma/Downloads/db2ohk8mp.txt'}, page_content=\"and saw this. So that's what happened. She actually had cancer from the talcum powder, and she was diagnosed with cancer, had the surgery, had went to chemo, did it all.<br>StartMs:96.775|EndMs:97.595|Agent:I'm sorry.<br>StartMs:98.065|EndMs:114.995|customer:And the lawyer disregarded her. She had tried to file a case. They disregarded her. It was, like, the same way I'm doing with you. Signed up, did everything, and they just disregarded her. Like, they sent her a letter saying, they can't\"),\n",
       " Document(metadata={'source': '/Users/mohitverma/Downloads/db2ohk8mp.txt'}, page_content=\"up, did everything, and they just disregarded her. Like, they sent her a letter saying, they can't they can't represent her or something like that. So she needs she's trying to find a lawyer that can.<br>StartMs:116.37|EndMs:123.03|Agent:I'm sorry to hear that. So did your mom sign with that law firm, or did y'all just speak with them?<br>StartMs:125.25|EndMs:132.185|customer:Okay. So didn't sign. She did just like the way me and yours. She filled out that just like that online. And\"),\n",
       " Document(metadata={'source': '/Users/mohitverma/Downloads/db2ohk8mp.txt'}, page_content=\"didn't sign. She did just like the way me and yours. She filled out that just like that online. And then<br>StartMs:129.515|EndMs:130.015|Agent:Yes.<br>StartMs:133.365|EndMs:151.705|customer:she never they did oh, and then they sent her a letter or they called her talking about, okay. We received all your info. We'll be in touch with you, and that was it. And then never heard from her again. Never heard from them again. Like that. Yeah. So, no, she didn't send no, Corky. Come on. You come\"),\n",
       " Document(metadata={'source': '/Users/mohitverma/Downloads/db2ohk8mp.txt'}, page_content=\"Never heard from them again. Like that. Yeah. So, no, she didn't send no, Corky. Come on. You come inside. You're hungry. Come on, baby. Come on. Mom, Corky's hungry.<br>StartMs:145.245|EndMs:145.745|Agent:Okay.<br>StartMs:152.885|EndMs:154.025|customer:Come on. Come on.<br>StartMs:156.04|EndMs:184.655|customer:Okay. The only thing hold on, ma'am. The only thing I'm saying why? It's because I don't know why they're both going around licking the ground, and now Corky does. But he went listen.\"),\n",
       " Document(metadata={'source': '/Users/mohitverma/Downloads/db2ohk8mp.txt'}, page_content=\"know why they're both going around licking the ground, and now Corky does. But he went listen. Corky went back there with the cat food, and he got the thing one, and he's trying to eat whatever he can find back. Yeah. Look. It's it says, hello, Martha. Okay. Hold on. I re I reviewed the Telkom case inquiry that was submitted to me. Okay. Did you hear yeah. That's that's as far as it went. She got the letter, and that's all it said. So that's as far as it went. So, no, she didn't sign\"),\n",
       " Document(metadata={'source': '/Users/mohitverma/Downloads/db2ohk8mp.txt'}, page_content=\"She got the letter, and that's all it said. So that's as far as it went. So, no, she didn't sign anything.<br>StartMs:158.065|EndMs:158.565|Agent:Okay.<br>StartMs:179.575|EndMs:180.395|Agent:Yes, ma'am.<br>StartMs:185.28|EndMs:185.78|Agent:Okay.<br>StartMs:187.2|EndMs:192.98|Agent:So wait. You're saying that you said that she did receive I mean, they did receive her documents<br>StartMs:194.005|EndMs:198.985|Agent:such as just proving that she do have cancer, or what document did she send to\"),\n",
       " Document(metadata={'source': '/Users/mohitverma/Downloads/db2ohk8mp.txt'}, page_content=\"as just proving that she do have cancer, or what document did she send to them?<br>StartMs:197.18|EndMs:203.445|customer:No. Just just y'all all they received was the way I did it for you right now, how there was a questionnaire.<br>StartMs:204.09|EndMs:204.59|Agent:Mhmm.<br>StartMs:204.385|EndMs:212.64|customer:And then she filled out questionnaire, just the real three questions. Did you have it? Did this, that, and that was it? Sent it in. Just the way we did it now, me and\"),\n",
       " Document(metadata={'source': '/Users/mohitverma/Downloads/db2ohk8mp.txt'}, page_content=\"Did you have it? Did this, that, and that was it? Sent it in. Just the way we did it now, me and you.<br>StartMs:213.815|EndMs:222.8|customer:Okay. Because how we do it is I I got it on Facebook. All it said was, did you have it? Yes. What year was it? This one. And then you press a check, and then it sends off. That's all.<br>StartMs:224.4|EndMs:230.82|customer:It's a real quick three questions, and that was it. Yeah. That was it. She didn't she didn't sign anything. No obligations. No\"),\n",
       " Document(metadata={'source': '/Users/mohitverma/Downloads/db2ohk8mp.txt'}, page_content=\"and that was it. Yeah. That was it. She didn't she didn't sign anything. No obligations. No nothing.<br>StartMs:231.975|EndMs:237.915|Agent:Okay. And I have a question for you. Do you have power of attorney for your mom?<br>StartMs:235.775|EndMs:236.275|customer:Yes.<br>StartMs:239.49|EndMs:241.11|customer:No. There's no attorney. No.<br>StartMs:242.92|EndMs:246.44|Agent:Okay. No. Power of attorney. So just you\"),\n",
       " Document(metadata={'source': '/Users/mohitverma/Downloads/db2ohk8mp.txt'}, page_content=\"no attorney. No.<br>StartMs:242.92|EndMs:246.44|Agent:Okay. No. Power of attorney. So just you could<br>StartMs:244.29|EndMs:244.79|customer:No.<br>StartMs:246.215|EndMs:250.955|customer:Oh, am I proud? Yes. Yes. Yes. Yes. Actually, no. I'm not. She's pretty coherent.<br>StartMs:247.56|EndMs:248.06|Agent:yes.<br>StartMs:251.815|EndMs:270.505|customer:It's just that she doesn't like, this is what it is. She had told me, I've already done it. I'm tired of trying to get a lawyer. So she gave up,\"),\n",
       " Document(metadata={'source': '/Users/mohitverma/Downloads/db2ohk8mp.txt'}, page_content=\"it is. She had told me, I've already done it. I'm tired of trying to get a lawyer. So she gave up, and that's why I'm speaking on her behalf because she says she gave up. But I know my mom has a very good case because she did shed cancer. My I said the only reason I'm speaking on her behalf is because I know she has a very good case.<br>StartMs:268.825|EndMs:273.005|Agent:Alright. So what do I do about this? Let her I speak with her.<br>StartMs:274.01|EndMs:275.63|customer:Yeah. If you'd like\"),\n",
       " Document(metadata={'source': '/Users/mohitverma/Downloads/db2ohk8mp.txt'}, page_content=\"about this? Let her I speak with her.<br>StartMs:274.01|EndMs:275.63|customer:Yeah. If you'd like to, could you?<br>StartMs:276.49|EndMs:280.11|customer:Do you wanna call you can call her phone number if you'd like. She's right next to her telephone.<br>StartMs:279.02|EndMs:279.68|Agent:Oh, wait.<br>StartMs:281.645|EndMs:287.745|Agent:Yes. I'm just I'm just trying to get consent that I could speak with you. I could speak with both of you at this time,\"),\n",
       " Document(metadata={'source': '/Users/mohitverma/Downloads/db2ohk8mp.txt'}, page_content='trying to get consent that I could speak with you. I could speak with both of you at this time, but<br>StartMs:286.015|EndMs:287.155|customer:Go ahead. Go ahead.<br>StartMs:291.69|EndMs:292.67|Agent:alright. Hello?<br>StartMs:293.48|EndMs:293.98|customer:Yes.<br>StartMs:294.49|EndMs:299.125|Agent:Oh, no. I was trying to speak with your mom just to get consent that I could speak with you.<br>StartMs:297.64|EndMs:298.14|customer:Okay.<br>StartMs:299.865|EndMs:306.445|customer:Okay. Go ahead. No.'),\n",
       " Document(metadata={'source': '/Users/mohitverma/Downloads/db2ohk8mp.txt'}, page_content=\"Go ahead. No. Actually, you could talk to her if you like. She's coherent. Yeah. I'll hand her the phone. Okay? One minute.<br>StartMs:306.2|EndMs:306.7|Agent:Okay.<br>StartMs:307.305|EndMs:317.2|customer:K. Here, mom. These are the lawyers. It's just real fast. If you want if you don't want to What? Group of lawyers. The one that I just signed, I don't know. I don't know. Ask them all that. Whatever you wanna do. Hello?<br>StartMs:317.875|EndMs:335.705|Agent:Hi. Good afternoon. My name is\"),\n",
       " Document(metadata={'source': '/Users/mohitverma/Downloads/db2ohk8mp.txt'}, page_content=\"Whatever you wanna do. Hello?<br>StartMs:317.875|EndMs:335.705|Agent:Hi. Good afternoon. My name is Raven with Saddle Rock Legal Group. I was speaking with your daughter. I just wanted to get consent that I could speak with her about your talcum powder case. And just to confirm that you haven't signed with another law firm can you hear me now?<br>StartMs:332.72|EndMs:334.34|customer:I can't really hear you, ma'am.<br>StartMs:336.645|EndMs:337.385|customer:Not\"),\n",
       " Document(metadata={'source': '/Users/mohitverma/Downloads/db2ohk8mp.txt'}, page_content=\"can't really hear you, ma'am.<br>StartMs:336.645|EndMs:337.385|customer:Not really.<br>StartMs:338.54|EndMs:339.92|Agent:Hello? Can you hear me?<br>StartMs:341.205|EndMs:342.345|customer:Let me see. Speak.<br>StartMs:342.94|EndMs:344.24|Agent:Yes. Can you hear me?<br>StartMs:344.79|EndMs:345.85|customer:A little bit more.<br>StartMs:347.265|EndMs:348.565|Agent:Yes. Can you hear me?<br>StartMs:349.03|EndMs:351.095|customer:Okay. Yeah. I can hear you.<br>StartMs:349.985|EndMs:358.21|Agent:Okay.\"),\n",
       " Document(metadata={'source': '/Users/mohitverma/Downloads/db2ohk8mp.txt'}, page_content=\"Yeah. I can hear you.<br>StartMs:349.985|EndMs:358.21|Agent:Okay. So I was just trying to get consent that I could speak with your daughter, and I also wanted to know, did you start with another law firm?<br>StartMs:359.01|EndMs:361.35|customer:I haven't signed with nobody. I I<br>StartMs:362.21|EndMs:377.895|customer:I put in a claim to some to a firm of lawyers. I forgot the name, but I still have the paperwork. And they just sent me a letter of denial. They didn't give me no reason, and I\"),\n",
       " Document(metadata={'source': '/Users/mohitverma/Downloads/db2ohk8mp.txt'}, page_content=\"have the paperwork. And they just sent me a letter of denial. They didn't give me no reason, and I was just, like, despondent, and I just left it.<br>StartMs:378.855|EndMs:384.795|Agent:Okay. So would you like to answer the questions or would you want me to speak with your daughter?<br>StartMs:386.135|EndMs:391.835|customer:No. My daughter has nothing to do with it. She just took it upon herself because she found the she found it<br>StartMs:388.34|EndMs:389.33|Agent:Just\"),\n",
       " Document(metadata={'source': '/Users/mohitverma/Downloads/db2ohk8mp.txt'}, page_content='took it upon herself because she found the she found it<br>StartMs:388.34|EndMs:389.33|Agent:Just okay.<br>StartMs:392.775|EndMs:396.15|customer:the the claim for the the cancer powder<br>StartMs:397.49|EndMs:397.99|customer:lawyers.<br>StartMs:398.655|EndMs:400.835|Agent:Okay. What is your first name,<br>StartMs:401.49|EndMs:402.55|customer:My name is Martha.<br>StartMs:403.34|EndMs:405.04|Agent:Martha. And your last'),\n",
       " Document(metadata={'source': '/Users/mohitverma/Downloads/db2ohk8mp.txt'}, page_content='name is Martha.<br>StartMs:403.34|EndMs:405.04|Agent:Martha. And your last name?<br>StartMs:405.745|EndMs:406.245|customer:Copas,<br>StartMs:407.42|EndMs:409.36|Agent:Could you spell that for me, please?<br>StartMs:409.985|EndMs:411.445|customer:b o p a s.<br>StartMs:414.715|EndMs:415.215|Agent:Okay.<br>StartMs:425.8|EndMs:435.055|Agent:Alright. So I just have to state this. I stated it with your daughter already, but I have to because you are I just have to make sure that'),\n",
       " Document(metadata={'source': '/Users/mohitverma/Downloads/db2ohk8mp.txt'}, page_content=\"I stated it with your daughter already, but I have to because you are I just have to make sure that you<br>StartMs:436.62|EndMs:457.62|Agent:you do agree to provide accurate information to the best of your knowledge, and I'm gonna let you know that this is a recorded line. So it will be recorded for quality and training purposes, and the recording will be subject to a third party AI call grading software. So your responses will be recorded exactly as you state them and review by our staff and\"),\n",
       " Document(metadata={'source': '/Users/mohitverma/Downloads/db2ohk8mp.txt'}, page_content=\"software. So your responses will be recorded exactly as you state them and review by our staff and cancel.<br>StartMs:457.265|EndMs:458.805|customer:What law firm is this?<br>StartMs:458.88|EndMs:461.14|Agent:This is with Saddle Rock Legal Group.<br>StartMs:462.385|EndMs:465.42|customer:Oh, the Saddle Lock. Can you spell that for me?<br>StartMs:464.015|EndMs:464.755|Agent:Yes, ma'am.<br>StartMs:465.695|EndMs:469.635|Agent:So s as in Sam, a as apple.<br>StartMs:468.86|EndMs:472.64|customer:Hold\"),\n",
       " Document(metadata={'source': '/Users/mohitverma/Downloads/db2ohk8mp.txt'}, page_content=\"s as in Sam, a as apple.<br>StartMs:468.86|EndMs:472.64|customer:Hold on. Hold on for a minute. Okay. Go ahead.<br>StartMs:472.99|EndMs:482.295|Agent:Okay. S as Sam, a as apple, d as dog, d as dog, l as love, e as elephant,<br>StartMs:483.555|EndMs:485.095|Agent:r rock.<br>StartMs:486.97|EndMs:488.91|Agent:Just Rock, r o k.<br>StartMs:487.74|EndMs:496.545|customer:Let me see. S let let me let me let me give it to you again. S a d l e l o v e, and I'm at\"),\n",
       " Document(metadata={'source': '/Users/mohitverma/Downloads/db2ohk8mp.txt'}, page_content=\"me see. S let let me let me let me give it to you again. S a d l e l o v e, and I'm at e.<br>StartMs:496.405|EndMs:504.105|Agent:No. No. No. No. So s a d d l e, Rock, r o c k.<br>StartMs:503.59|EndMs:507.525|customer:S a d d e l e.<br>StartMs:507.63|EndMs:509.33|Agent:No. L e.<br>StartMs:508.465|EndMs:508.965|customer:Okay.<br>StartMs:510.145|EndMs:511.505|customer:S a d d<br>StartMs:512.99|EndMs:513.89|Agent:L\"),\n",
       " Document(metadata={'source': '/Users/mohitverma/Downloads/db2ohk8mp.txt'}, page_content='a d d<br>StartMs:512.99|EndMs:513.89|Agent:L e<br>StartMs:515.17|EndMs:515.67|customer:Okay.<br>StartMs:516.425|EndMs:518.525|Agent:Enrock, r o c k,<br>StartMs:520.69|EndMs:521.19|customer:Okay.<br>StartMs:521.545|EndMs:522.35|Agent:Legal Group.<br>StartMs:523.63|EndMs:542.7|Agent:Okay. So your responses will be recorded exactly as you state them and review by our staff and counsel. The information you provide today is very important. Should you have a case, you may be asked to verify your'),\n",
       " Document(metadata={'source': '/Users/mohitverma/Downloads/db2ohk8mp.txt'}, page_content='you provide today is very important. Should you have a case, you may be asked to verify your responses by affidavit, so your complete honesty is very important. Do you agree to provide accurate information to the best of your knowledge?<br>StartMs:546.185|EndMs:547.78|customer:You said it too fast for me.<br>StartMs:548.735|EndMs:553.475|Agent:Okay. So I was just asking, do you agree to provide accurate information to the best of your knowledge?<br>StartMs:554.02|EndMs:558.925|customer:To the'),\n",
       " Document(metadata={'source': '/Users/mohitverma/Downloads/db2ohk8mp.txt'}, page_content=\"accurate information to the best of your knowledge?<br>StartMs:554.02|EndMs:558.925|customer:To the best of my knowledge because it's been so long. I don't even remember. I have to look at the paperwork.<br>StartMs:560.5|EndMs:561|Agent:Okay.<br>StartMs:562.635|EndMs:569.535|Agent:And are you willing to affirm on a penalty that you have not sought legal representation or advice from any other law firm for this matter?<br>StartMs:570.83|EndMs:573.445|customer:Yes. I have never had no advice from\"),\n",
       " Document(metadata={'source': '/Users/mohitverma/Downloads/db2ohk8mp.txt'}, page_content=\"firm for this matter?<br>StartMs:570.83|EndMs:573.445|customer:Yes. I have never had no advice from no one.<br>StartMs:574.22|EndMs:581.835|Agent:Okay. And you haven't previously signed documents either physically or electronically regarding this matter with any other firm?<br>StartMs:582.6|EndMs:592.485|customer:No. None. The the firm that I I forgot what the name of the firm is, but I have I have the paperwork. They just they took the claim, but they<br>StartMs:593.345|EndMs:607.8|customer:I\"),\n",
       " Document(metadata={'source': '/Users/mohitverma/Downloads/db2ohk8mp.txt'}, page_content=\"the paperwork. They just they took the claim, but they<br>StartMs:593.345|EndMs:607.8|customer:I thought that they had progressed with the claim with a claim. But before I knew it, they sent me the the letter that I they were not any longer going to go ahead with my case, and that was it.<br>StartMs:608.725|EndMs:610.585|customer:But I didn't sign anything. Nothing.<br>StartMs:613.79|EndMs:614.29|Agent:Okay.<br>StartMs:616.255|EndMs:617.635|Agent:And what type of\"),\n",
       " Document(metadata={'source': '/Users/mohitverma/Downloads/db2ohk8mp.txt'}, page_content=\"what type of temp<br>StartMs:616.43|EndMs:618.13|customer:That was about five years ago.<br>StartMs:618.895|EndMs:621.715|Agent:five years ago? Okay. And what type of<br>StartMs:620.59|EndMs:624.05|customer:I think. I'm not sure. But it it it's been quite a few years ago.<br>StartMs:631.95|EndMs:636.61|customer:To give you more information, I would have to go and look at the paperwork and then give you some accurate<br>StartMs:637.47|EndMs:647.005|customer:facts or knowledge because I don't\"),\n",
       " Document(metadata={'source': '/Users/mohitverma/Downloads/db2ohk8mp.txt'}, page_content=\"give you some accurate<br>StartMs:637.47|EndMs:647.005|customer:facts or knowledge because I don't really remember. I don't even remember when I had the surgery. It's been so long. It's been, like, maybe twelve years or something.<br>StartMs:647.42|EndMs:653.055|Agent:Twelve years ago? Okay. And what type of were you officially diagnosed with?<br>StartMs:648.97|EndMs:650.67|customer:Something. I'm not sure.<br>StartMs:654.385|EndMs:684.05|customer:Oh, yes. I was diagnosed with with with ovarian\"),\n",
       " Document(metadata={'source': '/Users/mohitverma/Downloads/db2ohk8mp.txt'}, page_content='not sure.<br>StartMs:654.385|EndMs:684.05|customer:Oh, yes. I was diagnosed with with with ovarian cancer. And because of that cancer, when they went in, they had to do a five surgery five five surgeries and one. Well, after I started with the going to the doctors and, pardon me, with the the, appointments, they found that I had, other things that, were going wrong very wrong with my on top of the ovarian cancer.<br>StartMs:685.15|EndMs:687.17|customer:So I had five surgeries and'),\n",
       " Document(metadata={'source': '/Users/mohitverma/Downloads/db2ohk8mp.txt'}, page_content=\"on top of the ovarian cancer.<br>StartMs:685.15|EndMs:687.17|customer:So I had five surgeries and one<br>StartMs:685.485|EndMs:686.145|Agent:I'm sorry?<br>StartMs:689.345|EndMs:691.525|customer:ovarian cancer operation.<br>StartMs:693.41|EndMs:696.07|Agent:I'm sorry to hear that. And how old are you currently?<br>StartMs:697.64|EndMs:698.78|customer:How old am I?<br>StartMs:698.775|EndMs:699.595|Agent:Yes, ma'am.<br>StartMs:700.52|EndMs:701.9|customer:Eighty seven years\"),\n",
       " Document(metadata={'source': '/Users/mohitverma/Downloads/db2ohk8mp.txt'}, page_content=\"ma'am.<br>StartMs:700.52|EndMs:701.9|customer:Eighty seven years old.<br>StartMs:702.775|EndMs:708.92|Agent:Okay. And do you remember the exact date that you got diagnosed with ovarian cancer?<br>StartMs:709.495|EndMs:717.01|customer:No. I don't remember. It's been quite a few years ago. I like I was saying, like, maybe twelve years ago. I'm not sure.<br>StartMs:717.95|EndMs:725.975|customer:And then I started they started re re referring me to the different doctors, and I went to the cancer\"),\n",
       " Document(metadata={'source': '/Users/mohitverma/Downloads/db2ohk8mp.txt'}, page_content=\"then I started they started re re referring me to the different doctors, and I went to the cancer care center. And then they<br>StartMs:727.19|EndMs:731.05|customer:the doctor confirmed it after different doctors had the<br>StartMs:731.91|EndMs:744.8|customer:appointments with different doctors. Then I went to the cancer care center here in Pomona, and they they diagnosed me with the cancer positively. And they referred me to to Loma Linda, and that's where I had my cat my\"),\n",
       " Document(metadata={'source': '/Users/mohitverma/Downloads/db2ohk8mp.txt'}, page_content=\"with the cancer positively. And they referred me to to Loma Linda, and that's where I had my cat my surgery.<br>StartMs:747.06|EndMs:747.56|Agent:Okay.<br>StartMs:748.365|EndMs:752.065|Agent:And have you ever used Justin and Justin baby powder?<br>StartMs:752.915|EndMs:754.195|customer:I used to use it a long<br>StartMs:755.075|EndMs:773.685|customer:I used to use that. I used to use so so the the that's the only thing we used to have at one time, you know, way back then. I used to use that all\"),\n",
       " Document(metadata={'source': '/Users/mohitverma/Downloads/db2ohk8mp.txt'}, page_content=\"that's the only thing we used to have at one time, you know, way back then. I used to use that all the time because I was raising my my last child, I think, or two. And I I had it all the time, so I would use it. Use little, like, like, as a deodorant and private parts.<br>StartMs:775.16|EndMs:778.38|Agent:And have you ever used Justin Justin shower to shower?<br>StartMs:779.28|EndMs:780.82|customer:Yeah. I used to use the products.<br>StartMs:782.115|EndMs:785.415|Agent:Okay. So you did\"),\n",
       " Document(metadata={'source': '/Users/mohitverma/Downloads/db2ohk8mp.txt'}, page_content=\"I used to use the products.<br>StartMs:782.115|EndMs:785.415|Agent:Okay. So you did mention that you used<br>StartMs:786.435|EndMs:791.37|Agent:did you apply both to the private area or just the shower to shower?<br>StartMs:792.785|EndMs:799.58|customer:Well, I don't know. I guess it probably went to that area, but I don't remember just directly putting it there. But I guess, you know, I<br>StartMs:801.945|EndMs:805.245|Agent:Okay. Would you say that was the shower to shower or the baby\"),\n",
       " Document(metadata={'source': '/Users/mohitverma/Downloads/db2ohk8mp.txt'}, page_content=\"Would you say that was the shower to shower or the baby powder?<br>StartMs:802.84|EndMs:803.855|customer:I'm just telling<br>StartMs:806.415|EndMs:806.915|customer:Pardon?<br>StartMs:807.4|EndMs:810.94|Agent:Would you say that was the shower to shower or the baby powder?<br>StartMs:811.35|EndMs:815.21|customer:Well, both. I used to use them like a deodorant, you know, like, to put down there.<br>StartMs:815.64|EndMs:816.14|Agent:Mhmm.<br>StartMs:817.35|EndMs:821.185|customer:And and the shower\"),\n",
       " Document(metadata={'source': '/Users/mohitverma/Downloads/db2ohk8mp.txt'}, page_content=\"and the shower to shower to shower, and that's it.<br>StartMs:827.26|EndMs:831.84|Agent:And when did you first using the baby powder? First start using the baby<br>StartMs:831.32|EndMs:835.815|customer:I don't I really don't remember because I used to use it all the time with my kids. You know?<br>StartMs:837.495|EndMs:838.875|customer:So I don't really remember.<br>StartMs:840.455|EndMs:846.01|customer:But I used to buy it just because we didn't have anything else by that at that time, you\"),\n",
       " Document(metadata={'source': '/Users/mohitverma/Downloads/db2ohk8mp.txt'}, page_content=\"I used to buy it just because we didn't have anything else by that at that time, you know, way back<br>StartMs:848.15|EndMs:853.015|Agent:So I will need to know your best estimate for the year that you start using<br>StartMs:850.47|EndMs:850.97|customer:then.<br>StartMs:853.885|EndMs:856.305|customer:Oh my goodness. Maybe<br>StartMs:856.275|EndMs:856.775|Agent:it.<br>StartMs:860.045|EndMs:862.625|customer:maybe seventy two.<br>StartMs:863.13|EndMs:864.67|Agent:Nineteen seventy\"),\n",
       " Document(metadata={'source': '/Users/mohitverma/Downloads/db2ohk8mp.txt'}, page_content=\"seventy two.<br>StartMs:863.13|EndMs:864.67|Agent:Nineteen seventy two.<br>StartMs:867.75|EndMs:869.45|customer:Seventy two, seventy.<br>StartMs:871.165|EndMs:876.385|customer:Maybe even before that. No. I think seventy is I could go back to seventy.<br>StartMs:877.405|EndMs:894.005|customer:Can I be tough? I didn't wash her yesterday. Yeah. I I just said that every day. Yeah. Well, once a week, Lynn Lina. Because look at excuse me. Excuse me. For me? Lina. Renee. Excuse me. Just give me a few\"),\n",
       " Document(metadata={'source': '/Users/mohitverma/Downloads/db2ohk8mp.txt'}, page_content=\"Lynn Lina. Because look at excuse me. Excuse me. For me? Lina. Renee. Excuse me. Just give me a few minutes. I want shower here again. Do it again. Look.<br>StartMs:877.91|EndMs:878.41|Agent:Okay.<br>StartMs:881.51|EndMs:883.53|Agent:And would you say it was nineteen?<br>StartMs:892.055|EndMs:892.555|Agent:Okay.<br>StartMs:897.4|EndMs:898.54|customer:Okay. Go ahead, ma'am.<br>StartMs:899.87|EndMs:906.975|Agent:When would you say well, would you say that you start the baby powder in nineteen\"),\n",
       " Document(metadata={'source': '/Users/mohitverma/Downloads/db2ohk8mp.txt'}, page_content=\"would you say well, would you say that you start the baby powder in nineteen seventy two also or just the shower to shower?<br>StartMs:906.895|EndMs:919.2|customer:Probably so. No. I used to we used the the products. That's what I'm I'm trying to say. I used to use them because that's what we had. And I think I can go back because I'm trying trying to think for my the the the<br>StartMs:920.535|EndMs:927.195|customer:as far back as I can remember is when my son was born, probably. That's a that\"),\n",
       " Document(metadata={'source': '/Users/mohitverma/Downloads/db2ohk8mp.txt'}, page_content=\"far back as I can remember is when my son was born, probably. That's a that that's as far back as I can go.<br>StartMs:927.54|EndMs:930.28|Agent:Okay. And when was the last time you used it?<br>StartMs:930.93|EndMs:936.39|customer:Oh, I don't know. All that time, I guess up until maybe before<br>StartMs:937.805|EndMs:947.265|customer:I my son was I don't know. When he was already maybe two years old. I don't remember, ma'am. Those are things that I don't we I didn't pay attention\"),\n",
       " Document(metadata={'source': '/Users/mohitverma/Downloads/db2ohk8mp.txt'}, page_content=\"two years old. I don't remember, ma'am. Those are things that I don't we I didn't pay attention to.<br>StartMs:948.66|EndMs:951.56|Agent:Okay. So I will need to know the best estimate.<br>StartMs:952.42|EndMs:958.495|Agent:What so was your son born in nineteen seventy two, or he was born after that<br>StartMs:957.625|EndMs:960.845|customer:He was in nineteen seventy. And then<br>StartMs:960.155|EndMs:960.895|Agent:in nineteen<br>StartMs:961.785|EndMs:972.68|customer:and then my my other son was\"),\n",
       " Document(metadata={'source': '/Users/mohitverma/Downloads/db2ohk8mp.txt'}, page_content=\"nineteen<br>StartMs:961.785|EndMs:972.68|customer:and then my my other son was born in nineteen seventy two. But I and and I use them all the time, so I I don't know to tell you really because, you know, you don't pay attention to those things.<br>StartMs:973.065|EndMs:973.565|Agent:Okay.<br>StartMs:976.985|EndMs:982.73|Agent:So you mentioned that when your son was two years old, you stopped using it. Is that correct?<br>StartMs:985.67|EndMs:1001.23|customer:I think so. I'm I'm not sure what\"),\n",
       " Document(metadata={'source': '/Users/mohitverma/Downloads/db2ohk8mp.txt'}, page_content=\"it. Is that correct?<br>StartMs:985.67|EndMs:1001.23|customer:I think so. I'm I'm not sure what happened or if if I still continued using it, but I don't think I because I think it was past the age of using it. And I've been since I had to buy it for him, I used to use it too, you know, all the time.<br>StartMs:1002.4|EndMs:1002.9|Agent:Mhmm.<br>StartMs:1003.84|EndMs:1006.74|Agent:So when would you say you stop using it on yourself?<br>StartMs:1007.765|EndMs:1011.705|customer:Oh my goodness.\"),\n",
       " Document(metadata={'source': '/Users/mohitverma/Downloads/db2ohk8mp.txt'}, page_content=\"you say you stop using it on yourself?<br>StartMs:1007.765|EndMs:1011.705|customer:Oh my goodness. Again. I don't know.<br>StartMs:1013.405|EndMs:1013.905|Agent:Okay.<br>StartMs:1013.845|EndMs:1017.54|customer:Probably, like I said, when he was maybe two years old. I'm I'm not certain.<br>StartMs:1018.365|EndMs:1021.94|Agent:Okay. So in nineteen seventy four, that's when he was<br>StartMs:1025.28|EndMs:1025.78|Agent:two.<br>StartMs:1034.935|EndMs:1043.18|Agent:And is it the same for the shower\"),\n",
       " Document(metadata={'source': '/Users/mohitverma/Downloads/db2ohk8mp.txt'}, page_content=\"is it the same for the shower to shower? Did you stop using it when he was also two years old at the shower to shower? Or<br>StartMs:1042.405|EndMs:1048.665|customer:No. I kept using the shower to shower. No. And then and then and then what was it?<br>StartMs:1050.56|EndMs:1059.845|customer:Something else came along, and I stopped using it. I liked it better. But it wasn't until way after that that something else came, you know, because that's all we didn't have choice of\"),\n",
       " Document(metadata={'source': '/Users/mohitverma/Downloads/db2ohk8mp.txt'}, page_content=\"way after that that something else came, you know, because that's all we didn't have choice of much.<br>StartMs:1061.765|EndMs:1071.25|customer:So something else came up. I don't even remember what it was. I think it was I don't know. Some purple. I I remember the color of the of the thing, but I don't remember what it was like.<br>StartMs:1074.91|EndMs:1075.89|customer:I don't remember.<br>StartMs:1077.135|EndMs:1107.36|customer:And I liked it better, so I stopped using it. I don't I don't\"),\n",
       " Document(metadata={'source': '/Users/mohitverma/Downloads/db2ohk8mp.txt'}, page_content=\"I liked it better, so I stopped using it. I don't I don't really remember, ma'am. I don't remember those those dates. I don't remember because you don't pay attention when you stop, when you start, you know, just at random. Yeah. I'm I'm just talking to you because I don't really remember. But I do remember that something else came, and my son didn't need it. So I started using some something else. It was something purple. I don't even remember the name of it, but it was a purple little a\"),\n",
       " Document(metadata={'source': '/Users/mohitverma/Downloads/db2ohk8mp.txt'}, page_content=\"else. It was something purple. I don't even remember the name of it, but it was a purple little a container of shower to shower.<br>StartMs:1077.27|EndMs:1077.77|Agent:Okay.<br>StartMs:1109|EndMs:1112.14|Agent:Okay. And when would you say you stopped using the shower to shower?<br>StartMs:1112.765|EndMs:1121.81|customer:I tell you about when my son was about two years old, and after that sometime after that, I don't remember, Maybe two thousand<br>StartMs:1122.67|EndMs:1127.965|customer:three\"),\n",
       " Document(metadata={'source': '/Users/mohitverma/Downloads/db2ohk8mp.txt'}, page_content=\"after that, I don't remember, Maybe two thousand<br>StartMs:1122.67|EndMs:1127.965|customer:three or four, something other than that came on the market, and I started using it.<br>StartMs:1128.765|EndMs:1132.305|Agent:Okay. So two thousand three or two thousand four.<br>StartMs:1138.98|EndMs:1142.865|Agent:And what city do you live in now? Well, what state? I'm sorry.<br>StartMs:1141.8|EndMs:1142.94|customer:I live in Pomona,<br>StartMs:1143.825|EndMs:1144.805|Agent:In what\"),\n",
       " Document(metadata={'source': '/Users/mohitverma/Downloads/db2ohk8mp.txt'}, page_content=\"live in Pomona,<br>StartMs:1143.825|EndMs:1144.805|Agent:In what state?<br>StartMs:1144.2|EndMs:1144.7|customer:California,<br>StartMs:1145.745|EndMs:1146.245|Agent:California.<br>StartMs:1145.995|EndMs:1146.495|customer:California.<br>StartMs:1159.78|EndMs:1160.28|Agent:Okay.<br>StartMs:1165.345|EndMs:1180.295|Agent:So, unfortunately, we cannot accept your potential case at this time. As such, we're not able to represent you and will not be filing a lawsuit on your behalf. But this does not\"),\n",
       " Document(metadata={'source': '/Users/mohitverma/Downloads/db2ohk8mp.txt'}, page_content=\"we're not able to represent you and will not be filing a lawsuit on your behalf. But this does not mean you don't have a case, so I recommend you to reach out to another law firm for a second opinion. Do you have any questions for me?<br>StartMs:1182.075|EndMs:1207.83|customer:No. Except that I went through all that, and then you tell me that I don't even qualify. So that's why that's the reason that I gave up with the others because I heard from different people that you go through a whole lot\"),\n",
       " Document(metadata={'source': '/Users/mohitverma/Downloads/db2ohk8mp.txt'}, page_content=\"I gave up with the others because I heard from different people that you go through a whole lot of questions and this and that and the other, and then they tell you we don't qualify. So then you give all your information. You get the law firm has all your information, and then you don't even qualify. And that's the reason that I was so turned off. You know?<br>StartMs:1208.62|EndMs:1210|Agent:I'm sorry to hear this.<br>StartMs:1208.77|EndMs:1210.23|customer:And I don't think that's\"),\n",
       " Document(metadata={'source': '/Users/mohitverma/Downloads/db2ohk8mp.txt'}, page_content=\"sorry to hear this.<br>StartMs:1208.77|EndMs:1210.23|customer:And I don't think that's right.<br>StartMs:1211.685|EndMs:1226.74|Agent:I'm sorry to hear that. But it's the questionnaire I put you on based on what you gave me into the questionnaire, and you do not qualify. But this does not mean you don't have a case. As I stated, you're just not with the Saddle Rock Legal Group.<br>StartMs:1227.53|EndMs:1233.585|customer:What what was the what what didn't I qualify for about? I had the I had the\"),\n",
       " Document(metadata={'source': '/Users/mohitverma/Downloads/db2ohk8mp.txt'}, page_content=\"what was the what what didn't I qualify for about? I had the I had the surgery.<br>StartMs:1231.905|EndMs:1232.645|Agent:So there's<br>StartMs:1234.625|EndMs:1240.03|Agent:so there's the current lack of evidence to see our case criteria based on what you told me.<br>StartMs:1234.765|EndMs:1235.905|customer:I had the cancer.<br>StartMs:1241.06|EndMs:1250.415|customer:Well, you know, you shouldn't have that out there because so many people don't remember. I mean, you don't remember when you\"),\n",
       " Document(metadata={'source': '/Users/mohitverma/Downloads/db2ohk8mp.txt'}, page_content=\"have that out there because so many people don't remember. I mean, you don't remember when you stopped, when you started out because there's there I mean, it doesn't<br>StartMs:1251.435|EndMs:1261.08|customer:it doesn't come to mind. Okay. I started using this product. I start I stopped using this product and this and that. You don't make notes of those things, you know, when it's been so long.<br>StartMs:1262.275|EndMs:1266.055|customer:And I don't think it's fair. They put they\"),\n",
       " Document(metadata={'source': '/Users/mohitverma/Downloads/db2ohk8mp.txt'}, page_content=\"so long.<br>StartMs:1262.275|EndMs:1266.055|customer:And I don't think it's fair. They put they they<br>StartMs:1267.155|EndMs:1287.74|customer:they they put this advertisement out, and then you give all your information, and then the law firm has all your information. And how do I know that you're really a real, real legal place? How do I know? How do I know I'm talking to somebody that's really a righteous firm? I know that I I remember the name of it, but I don't know that you\"),\n",
       " Document(metadata={'source': '/Users/mohitverma/Downloads/db2ohk8mp.txt'}, page_content=\"that's really a righteous firm? I know that I I remember the name of it, but I don't know that you are.<br>StartMs:1280.805|EndMs:1281.305|Agent:Okay.<br>StartMs:1288.62|EndMs:1291.68|Agent:Okay. Yes. We are. So thank you so much for speaking.<br>StartMs:1290.14|EndMs:1292.56|customer:You might be somebody that just wants all my information.<br>StartMs:1293.705|EndMs:1298.285|Agent:Alright. Thank you so much for taking the time to speak with me at Federal Legal Group. Have a great day.\")]"
      ]
     },
     "execution_count": 77,
     "metadata": {},
     "output_type": "execute_result"
    }
   ],
   "execution_count": 77
  },
  {
   "metadata": {
    "ExecuteTime": {
     "end_time": "2025-03-02T08:01:07.482215Z",
     "start_time": "2025-03-02T08:01:07.469298Z"
    }
   },
   "cell_type": "code",
   "source": [
    "def convert_chunks_into_corpus(doc_chunks: list[Document]) -> list[str]:\n",
    "    chunks = []\n",
    "\n",
    "    for chunk in doc_chunks:\n",
    "        chunks.append(chunk.page_content)\n",
    "\n",
    "    return chunks"
   ],
   "id": "2842d7c6cc5372a7",
   "outputs": [],
   "execution_count": 78
  },
  {
   "metadata": {
    "ExecuteTime": {
     "end_time": "2025-03-02T08:01:16.753647Z",
     "start_time": "2025-03-02T08:01:16.737242Z"
    }
   },
   "cell_type": "code",
   "source": "corpus = convert_chunks_into_corpus(doc_chunks)",
   "id": "52c76fcd3f217ce1",
   "outputs": [],
   "execution_count": 79
  },
  {
   "metadata": {
    "ExecuteTime": {
     "end_time": "2025-03-02T08:01:18.455659Z",
     "start_time": "2025-03-02T08:01:18.416134Z"
    }
   },
   "cell_type": "code",
   "source": "corpus",
   "id": "87b1771abf3acaca",
   "outputs": [
    {
     "data": {
      "text/plain": [
       "['Call Direction: Inbound',\n",
       " '<br>StartMs:0.64|EndMs:1.14|customer:Hello?<br>StartMs:2.4|EndMs:5.62|Agent:Good afternoon. May I speak to Renee? Can you hear me?<br>StartMs:2.88|EndMs:3.38|customer:Hello?<br>StartMs:5.12|EndMs:7.06|customer:Yes. It is me. Yes. I can.<br>StartMs:6.64|EndMs:14.405|Agent:Hi. My name is Raven from Satteroff Legal Group on a recorded line calling you about your tech on file. Do you have time to complete that?<br>StartMs:11.165|EndMs:11.665|customer:Okay.<br>StartMs:14.845|EndMs:17.505|customer:I',\n",
       " \"that?<br>StartMs:11.165|EndMs:11.665|customer:Okay.<br>StartMs:14.845|EndMs:17.505|customer:I actually do. And this is about the talcum powder. Right?<br>StartMs:17.79|EndMs:21.01|Agent:Yes, ma'am. The tech about the survey you submitted to us.<br>StartMs:21.91|EndMs:32.975|customer:Wait. Wait. Wait. Yeah. About the okay. So I've I actually have to tell you something. The only reason I submitted it is because I didn't feel like changing all the info, but it's actually not for me. It's for my\",\n",
       " \"it is because I didn't feel like changing all the info, but it's actually not for me. It's for my mom. My mother actually<br>StartMs:22.27|EndMs:23.01|Agent:Have you<br>StartMs:33.54|EndMs:36.92|Agent:Okay. Wait. Before you begin, I have to state it's just<br>StartMs:36.155|EndMs:38.09|customer:yeah. Yeah. Yeah.<br>StartMs:38.02|EndMs:61.775|Agent:please be advised that this call may be recorded for quality and training purposes, and the recording will be subject to a prerecorded AI call\",\n",
       " 'for quality and training purposes, and the recording will be subject to a prerecorded AI call greater software. Your responses will be recorded exactly as you state them and review by our staff. You can So the information you provide is very important. Should you have a case, you may be asked to verify your responses by affidavit so that complete honesty is very important. Do you agree to provide information to the best of your',\n",
       " \"so that complete honesty is very important. Do you agree to provide information to the best of your knowledge?<br>StartMs:40.23|EndMs:40.73|customer:Okay.<br>StartMs:42.71|EndMs:43.21|customer:Yes.<br>StartMs:48.945|EndMs:50.085|customer:Okay. Okay.<br>StartMs:62.585|EndMs:63.245|customer:Yes, ma'am.<br>StartMs:63.755|EndMs:71.78|Agent:Okay. And are you willing to affirm on a penalty that you have not sought legal representation or advice from any of the law firms for this\",\n",
       " \"penalty that you have not sought legal representation or advice from any of the law firms for this matter?<br>StartMs:72.81|EndMs:96.06|customer:No. I actually did, and I just lost lost touch. Well, okay. It was my mother. She actually did, and she lost with them. And they just, like, disregarded her. So she's trying to find someone to represent her, actually, and then I just went through and saw this. So that's what happened. She actually had cancer from the talcum powder, and she was\",\n",
       " \"and saw this. So that's what happened. She actually had cancer from the talcum powder, and she was diagnosed with cancer, had the surgery, had went to chemo, did it all.<br>StartMs:96.775|EndMs:97.595|Agent:I'm sorry.<br>StartMs:98.065|EndMs:114.995|customer:And the lawyer disregarded her. She had tried to file a case. They disregarded her. It was, like, the same way I'm doing with you. Signed up, did everything, and they just disregarded her. Like, they sent her a letter saying, they can't\",\n",
       " \"up, did everything, and they just disregarded her. Like, they sent her a letter saying, they can't they can't represent her or something like that. So she needs she's trying to find a lawyer that can.<br>StartMs:116.37|EndMs:123.03|Agent:I'm sorry to hear that. So did your mom sign with that law firm, or did y'all just speak with them?<br>StartMs:125.25|EndMs:132.185|customer:Okay. So didn't sign. She did just like the way me and yours. She filled out that just like that online. And\",\n",
       " \"didn't sign. She did just like the way me and yours. She filled out that just like that online. And then<br>StartMs:129.515|EndMs:130.015|Agent:Yes.<br>StartMs:133.365|EndMs:151.705|customer:she never they did oh, and then they sent her a letter or they called her talking about, okay. We received all your info. We'll be in touch with you, and that was it. And then never heard from her again. Never heard from them again. Like that. Yeah. So, no, she didn't send no, Corky. Come on. You come\",\n",
       " \"Never heard from them again. Like that. Yeah. So, no, she didn't send no, Corky. Come on. You come inside. You're hungry. Come on, baby. Come on. Mom, Corky's hungry.<br>StartMs:145.245|EndMs:145.745|Agent:Okay.<br>StartMs:152.885|EndMs:154.025|customer:Come on. Come on.<br>StartMs:156.04|EndMs:184.655|customer:Okay. The only thing hold on, ma'am. The only thing I'm saying why? It's because I don't know why they're both going around licking the ground, and now Corky does. But he went listen.\",\n",
       " \"know why they're both going around licking the ground, and now Corky does. But he went listen. Corky went back there with the cat food, and he got the thing one, and he's trying to eat whatever he can find back. Yeah. Look. It's it says, hello, Martha. Okay. Hold on. I re I reviewed the Telkom case inquiry that was submitted to me. Okay. Did you hear yeah. That's that's as far as it went. She got the letter, and that's all it said. So that's as far as it went. So, no, she didn't sign\",\n",
       " \"She got the letter, and that's all it said. So that's as far as it went. So, no, she didn't sign anything.<br>StartMs:158.065|EndMs:158.565|Agent:Okay.<br>StartMs:179.575|EndMs:180.395|Agent:Yes, ma'am.<br>StartMs:185.28|EndMs:185.78|Agent:Okay.<br>StartMs:187.2|EndMs:192.98|Agent:So wait. You're saying that you said that she did receive I mean, they did receive her documents<br>StartMs:194.005|EndMs:198.985|Agent:such as just proving that she do have cancer, or what document did she send to\",\n",
       " \"as just proving that she do have cancer, or what document did she send to them?<br>StartMs:197.18|EndMs:203.445|customer:No. Just just y'all all they received was the way I did it for you right now, how there was a questionnaire.<br>StartMs:204.09|EndMs:204.59|Agent:Mhmm.<br>StartMs:204.385|EndMs:212.64|customer:And then she filled out questionnaire, just the real three questions. Did you have it? Did this, that, and that was it? Sent it in. Just the way we did it now, me and\",\n",
       " \"Did you have it? Did this, that, and that was it? Sent it in. Just the way we did it now, me and you.<br>StartMs:213.815|EndMs:222.8|customer:Okay. Because how we do it is I I got it on Facebook. All it said was, did you have it? Yes. What year was it? This one. And then you press a check, and then it sends off. That's all.<br>StartMs:224.4|EndMs:230.82|customer:It's a real quick three questions, and that was it. Yeah. That was it. She didn't she didn't sign anything. No obligations. No\",\n",
       " \"and that was it. Yeah. That was it. She didn't she didn't sign anything. No obligations. No nothing.<br>StartMs:231.975|EndMs:237.915|Agent:Okay. And I have a question for you. Do you have power of attorney for your mom?<br>StartMs:235.775|EndMs:236.275|customer:Yes.<br>StartMs:239.49|EndMs:241.11|customer:No. There's no attorney. No.<br>StartMs:242.92|EndMs:246.44|Agent:Okay. No. Power of attorney. So just you\",\n",
       " \"no attorney. No.<br>StartMs:242.92|EndMs:246.44|Agent:Okay. No. Power of attorney. So just you could<br>StartMs:244.29|EndMs:244.79|customer:No.<br>StartMs:246.215|EndMs:250.955|customer:Oh, am I proud? Yes. Yes. Yes. Yes. Actually, no. I'm not. She's pretty coherent.<br>StartMs:247.56|EndMs:248.06|Agent:yes.<br>StartMs:251.815|EndMs:270.505|customer:It's just that she doesn't like, this is what it is. She had told me, I've already done it. I'm tired of trying to get a lawyer. So she gave up,\",\n",
       " \"it is. She had told me, I've already done it. I'm tired of trying to get a lawyer. So she gave up, and that's why I'm speaking on her behalf because she says she gave up. But I know my mom has a very good case because she did shed cancer. My I said the only reason I'm speaking on her behalf is because I know she has a very good case.<br>StartMs:268.825|EndMs:273.005|Agent:Alright. So what do I do about this? Let her I speak with her.<br>StartMs:274.01|EndMs:275.63|customer:Yeah. If you'd like\",\n",
       " \"about this? Let her I speak with her.<br>StartMs:274.01|EndMs:275.63|customer:Yeah. If you'd like to, could you?<br>StartMs:276.49|EndMs:280.11|customer:Do you wanna call you can call her phone number if you'd like. She's right next to her telephone.<br>StartMs:279.02|EndMs:279.68|Agent:Oh, wait.<br>StartMs:281.645|EndMs:287.745|Agent:Yes. I'm just I'm just trying to get consent that I could speak with you. I could speak with both of you at this time,\",\n",
       " 'trying to get consent that I could speak with you. I could speak with both of you at this time, but<br>StartMs:286.015|EndMs:287.155|customer:Go ahead. Go ahead.<br>StartMs:291.69|EndMs:292.67|Agent:alright. Hello?<br>StartMs:293.48|EndMs:293.98|customer:Yes.<br>StartMs:294.49|EndMs:299.125|Agent:Oh, no. I was trying to speak with your mom just to get consent that I could speak with you.<br>StartMs:297.64|EndMs:298.14|customer:Okay.<br>StartMs:299.865|EndMs:306.445|customer:Okay. Go ahead. No.',\n",
       " \"Go ahead. No. Actually, you could talk to her if you like. She's coherent. Yeah. I'll hand her the phone. Okay? One minute.<br>StartMs:306.2|EndMs:306.7|Agent:Okay.<br>StartMs:307.305|EndMs:317.2|customer:K. Here, mom. These are the lawyers. It's just real fast. If you want if you don't want to What? Group of lawyers. The one that I just signed, I don't know. I don't know. Ask them all that. Whatever you wanna do. Hello?<br>StartMs:317.875|EndMs:335.705|Agent:Hi. Good afternoon. My name is\",\n",
       " \"Whatever you wanna do. Hello?<br>StartMs:317.875|EndMs:335.705|Agent:Hi. Good afternoon. My name is Raven with Saddle Rock Legal Group. I was speaking with your daughter. I just wanted to get consent that I could speak with her about your talcum powder case. And just to confirm that you haven't signed with another law firm can you hear me now?<br>StartMs:332.72|EndMs:334.34|customer:I can't really hear you, ma'am.<br>StartMs:336.645|EndMs:337.385|customer:Not\",\n",
       " \"can't really hear you, ma'am.<br>StartMs:336.645|EndMs:337.385|customer:Not really.<br>StartMs:338.54|EndMs:339.92|Agent:Hello? Can you hear me?<br>StartMs:341.205|EndMs:342.345|customer:Let me see. Speak.<br>StartMs:342.94|EndMs:344.24|Agent:Yes. Can you hear me?<br>StartMs:344.79|EndMs:345.85|customer:A little bit more.<br>StartMs:347.265|EndMs:348.565|Agent:Yes. Can you hear me?<br>StartMs:349.03|EndMs:351.095|customer:Okay. Yeah. I can hear you.<br>StartMs:349.985|EndMs:358.21|Agent:Okay.\",\n",
       " \"Yeah. I can hear you.<br>StartMs:349.985|EndMs:358.21|Agent:Okay. So I was just trying to get consent that I could speak with your daughter, and I also wanted to know, did you start with another law firm?<br>StartMs:359.01|EndMs:361.35|customer:I haven't signed with nobody. I I<br>StartMs:362.21|EndMs:377.895|customer:I put in a claim to some to a firm of lawyers. I forgot the name, but I still have the paperwork. And they just sent me a letter of denial. They didn't give me no reason, and I\",\n",
       " \"have the paperwork. And they just sent me a letter of denial. They didn't give me no reason, and I was just, like, despondent, and I just left it.<br>StartMs:378.855|EndMs:384.795|Agent:Okay. So would you like to answer the questions or would you want me to speak with your daughter?<br>StartMs:386.135|EndMs:391.835|customer:No. My daughter has nothing to do with it. She just took it upon herself because she found the she found it<br>StartMs:388.34|EndMs:389.33|Agent:Just\",\n",
       " 'took it upon herself because she found the she found it<br>StartMs:388.34|EndMs:389.33|Agent:Just okay.<br>StartMs:392.775|EndMs:396.15|customer:the the claim for the the cancer powder<br>StartMs:397.49|EndMs:397.99|customer:lawyers.<br>StartMs:398.655|EndMs:400.835|Agent:Okay. What is your first name,<br>StartMs:401.49|EndMs:402.55|customer:My name is Martha.<br>StartMs:403.34|EndMs:405.04|Agent:Martha. And your last',\n",
       " 'name is Martha.<br>StartMs:403.34|EndMs:405.04|Agent:Martha. And your last name?<br>StartMs:405.745|EndMs:406.245|customer:Copas,<br>StartMs:407.42|EndMs:409.36|Agent:Could you spell that for me, please?<br>StartMs:409.985|EndMs:411.445|customer:b o p a s.<br>StartMs:414.715|EndMs:415.215|Agent:Okay.<br>StartMs:425.8|EndMs:435.055|Agent:Alright. So I just have to state this. I stated it with your daughter already, but I have to because you are I just have to make sure that',\n",
       " \"I stated it with your daughter already, but I have to because you are I just have to make sure that you<br>StartMs:436.62|EndMs:457.62|Agent:you do agree to provide accurate information to the best of your knowledge, and I'm gonna let you know that this is a recorded line. So it will be recorded for quality and training purposes, and the recording will be subject to a third party AI call grading software. So your responses will be recorded exactly as you state them and review by our staff and\",\n",
       " \"software. So your responses will be recorded exactly as you state them and review by our staff and cancel.<br>StartMs:457.265|EndMs:458.805|customer:What law firm is this?<br>StartMs:458.88|EndMs:461.14|Agent:This is with Saddle Rock Legal Group.<br>StartMs:462.385|EndMs:465.42|customer:Oh, the Saddle Lock. Can you spell that for me?<br>StartMs:464.015|EndMs:464.755|Agent:Yes, ma'am.<br>StartMs:465.695|EndMs:469.635|Agent:So s as in Sam, a as apple.<br>StartMs:468.86|EndMs:472.64|customer:Hold\",\n",
       " \"s as in Sam, a as apple.<br>StartMs:468.86|EndMs:472.64|customer:Hold on. Hold on for a minute. Okay. Go ahead.<br>StartMs:472.99|EndMs:482.295|Agent:Okay. S as Sam, a as apple, d as dog, d as dog, l as love, e as elephant,<br>StartMs:483.555|EndMs:485.095|Agent:r rock.<br>StartMs:486.97|EndMs:488.91|Agent:Just Rock, r o k.<br>StartMs:487.74|EndMs:496.545|customer:Let me see. S let let me let me let me give it to you again. S a d l e l o v e, and I'm at\",\n",
       " \"me see. S let let me let me let me give it to you again. S a d l e l o v e, and I'm at e.<br>StartMs:496.405|EndMs:504.105|Agent:No. No. No. No. So s a d d l e, Rock, r o c k.<br>StartMs:503.59|EndMs:507.525|customer:S a d d e l e.<br>StartMs:507.63|EndMs:509.33|Agent:No. L e.<br>StartMs:508.465|EndMs:508.965|customer:Okay.<br>StartMs:510.145|EndMs:511.505|customer:S a d d<br>StartMs:512.99|EndMs:513.89|Agent:L\",\n",
       " 'a d d<br>StartMs:512.99|EndMs:513.89|Agent:L e<br>StartMs:515.17|EndMs:515.67|customer:Okay.<br>StartMs:516.425|EndMs:518.525|Agent:Enrock, r o c k,<br>StartMs:520.69|EndMs:521.19|customer:Okay.<br>StartMs:521.545|EndMs:522.35|Agent:Legal Group.<br>StartMs:523.63|EndMs:542.7|Agent:Okay. So your responses will be recorded exactly as you state them and review by our staff and counsel. The information you provide today is very important. Should you have a case, you may be asked to verify your',\n",
       " 'you provide today is very important. Should you have a case, you may be asked to verify your responses by affidavit, so your complete honesty is very important. Do you agree to provide accurate information to the best of your knowledge?<br>StartMs:546.185|EndMs:547.78|customer:You said it too fast for me.<br>StartMs:548.735|EndMs:553.475|Agent:Okay. So I was just asking, do you agree to provide accurate information to the best of your knowledge?<br>StartMs:554.02|EndMs:558.925|customer:To the',\n",
       " \"accurate information to the best of your knowledge?<br>StartMs:554.02|EndMs:558.925|customer:To the best of my knowledge because it's been so long. I don't even remember. I have to look at the paperwork.<br>StartMs:560.5|EndMs:561|Agent:Okay.<br>StartMs:562.635|EndMs:569.535|Agent:And are you willing to affirm on a penalty that you have not sought legal representation or advice from any other law firm for this matter?<br>StartMs:570.83|EndMs:573.445|customer:Yes. I have never had no advice from\",\n",
       " \"firm for this matter?<br>StartMs:570.83|EndMs:573.445|customer:Yes. I have never had no advice from no one.<br>StartMs:574.22|EndMs:581.835|Agent:Okay. And you haven't previously signed documents either physically or electronically regarding this matter with any other firm?<br>StartMs:582.6|EndMs:592.485|customer:No. None. The the firm that I I forgot what the name of the firm is, but I have I have the paperwork. They just they took the claim, but they<br>StartMs:593.345|EndMs:607.8|customer:I\",\n",
       " \"the paperwork. They just they took the claim, but they<br>StartMs:593.345|EndMs:607.8|customer:I thought that they had progressed with the claim with a claim. But before I knew it, they sent me the the letter that I they were not any longer going to go ahead with my case, and that was it.<br>StartMs:608.725|EndMs:610.585|customer:But I didn't sign anything. Nothing.<br>StartMs:613.79|EndMs:614.29|Agent:Okay.<br>StartMs:616.255|EndMs:617.635|Agent:And what type of\",\n",
       " \"what type of temp<br>StartMs:616.43|EndMs:618.13|customer:That was about five years ago.<br>StartMs:618.895|EndMs:621.715|Agent:five years ago? Okay. And what type of<br>StartMs:620.59|EndMs:624.05|customer:I think. I'm not sure. But it it it's been quite a few years ago.<br>StartMs:631.95|EndMs:636.61|customer:To give you more information, I would have to go and look at the paperwork and then give you some accurate<br>StartMs:637.47|EndMs:647.005|customer:facts or knowledge because I don't\",\n",
       " \"give you some accurate<br>StartMs:637.47|EndMs:647.005|customer:facts or knowledge because I don't really remember. I don't even remember when I had the surgery. It's been so long. It's been, like, maybe twelve years or something.<br>StartMs:647.42|EndMs:653.055|Agent:Twelve years ago? Okay. And what type of were you officially diagnosed with?<br>StartMs:648.97|EndMs:650.67|customer:Something. I'm not sure.<br>StartMs:654.385|EndMs:684.05|customer:Oh, yes. I was diagnosed with with with ovarian\",\n",
       " 'not sure.<br>StartMs:654.385|EndMs:684.05|customer:Oh, yes. I was diagnosed with with with ovarian cancer. And because of that cancer, when they went in, they had to do a five surgery five five surgeries and one. Well, after I started with the going to the doctors and, pardon me, with the the, appointments, they found that I had, other things that, were going wrong very wrong with my on top of the ovarian cancer.<br>StartMs:685.15|EndMs:687.17|customer:So I had five surgeries and',\n",
       " \"on top of the ovarian cancer.<br>StartMs:685.15|EndMs:687.17|customer:So I had five surgeries and one<br>StartMs:685.485|EndMs:686.145|Agent:I'm sorry?<br>StartMs:689.345|EndMs:691.525|customer:ovarian cancer operation.<br>StartMs:693.41|EndMs:696.07|Agent:I'm sorry to hear that. And how old are you currently?<br>StartMs:697.64|EndMs:698.78|customer:How old am I?<br>StartMs:698.775|EndMs:699.595|Agent:Yes, ma'am.<br>StartMs:700.52|EndMs:701.9|customer:Eighty seven years\",\n",
       " \"ma'am.<br>StartMs:700.52|EndMs:701.9|customer:Eighty seven years old.<br>StartMs:702.775|EndMs:708.92|Agent:Okay. And do you remember the exact date that you got diagnosed with ovarian cancer?<br>StartMs:709.495|EndMs:717.01|customer:No. I don't remember. It's been quite a few years ago. I like I was saying, like, maybe twelve years ago. I'm not sure.<br>StartMs:717.95|EndMs:725.975|customer:And then I started they started re re referring me to the different doctors, and I went to the cancer\",\n",
       " \"then I started they started re re referring me to the different doctors, and I went to the cancer care center. And then they<br>StartMs:727.19|EndMs:731.05|customer:the doctor confirmed it after different doctors had the<br>StartMs:731.91|EndMs:744.8|customer:appointments with different doctors. Then I went to the cancer care center here in Pomona, and they they diagnosed me with the cancer positively. And they referred me to to Loma Linda, and that's where I had my cat my\",\n",
       " \"with the cancer positively. And they referred me to to Loma Linda, and that's where I had my cat my surgery.<br>StartMs:747.06|EndMs:747.56|Agent:Okay.<br>StartMs:748.365|EndMs:752.065|Agent:And have you ever used Justin and Justin baby powder?<br>StartMs:752.915|EndMs:754.195|customer:I used to use it a long<br>StartMs:755.075|EndMs:773.685|customer:I used to use that. I used to use so so the the that's the only thing we used to have at one time, you know, way back then. I used to use that all\",\n",
       " \"that's the only thing we used to have at one time, you know, way back then. I used to use that all the time because I was raising my my last child, I think, or two. And I I had it all the time, so I would use it. Use little, like, like, as a deodorant and private parts.<br>StartMs:775.16|EndMs:778.38|Agent:And have you ever used Justin Justin shower to shower?<br>StartMs:779.28|EndMs:780.82|customer:Yeah. I used to use the products.<br>StartMs:782.115|EndMs:785.415|Agent:Okay. So you did\",\n",
       " \"I used to use the products.<br>StartMs:782.115|EndMs:785.415|Agent:Okay. So you did mention that you used<br>StartMs:786.435|EndMs:791.37|Agent:did you apply both to the private area or just the shower to shower?<br>StartMs:792.785|EndMs:799.58|customer:Well, I don't know. I guess it probably went to that area, but I don't remember just directly putting it there. But I guess, you know, I<br>StartMs:801.945|EndMs:805.245|Agent:Okay. Would you say that was the shower to shower or the baby\",\n",
       " \"Would you say that was the shower to shower or the baby powder?<br>StartMs:802.84|EndMs:803.855|customer:I'm just telling<br>StartMs:806.415|EndMs:806.915|customer:Pardon?<br>StartMs:807.4|EndMs:810.94|Agent:Would you say that was the shower to shower or the baby powder?<br>StartMs:811.35|EndMs:815.21|customer:Well, both. I used to use them like a deodorant, you know, like, to put down there.<br>StartMs:815.64|EndMs:816.14|Agent:Mhmm.<br>StartMs:817.35|EndMs:821.185|customer:And and the shower\",\n",
       " \"and the shower to shower to shower, and that's it.<br>StartMs:827.26|EndMs:831.84|Agent:And when did you first using the baby powder? First start using the baby<br>StartMs:831.32|EndMs:835.815|customer:I don't I really don't remember because I used to use it all the time with my kids. You know?<br>StartMs:837.495|EndMs:838.875|customer:So I don't really remember.<br>StartMs:840.455|EndMs:846.01|customer:But I used to buy it just because we didn't have anything else by that at that time, you\",\n",
       " \"I used to buy it just because we didn't have anything else by that at that time, you know, way back<br>StartMs:848.15|EndMs:853.015|Agent:So I will need to know your best estimate for the year that you start using<br>StartMs:850.47|EndMs:850.97|customer:then.<br>StartMs:853.885|EndMs:856.305|customer:Oh my goodness. Maybe<br>StartMs:856.275|EndMs:856.775|Agent:it.<br>StartMs:860.045|EndMs:862.625|customer:maybe seventy two.<br>StartMs:863.13|EndMs:864.67|Agent:Nineteen seventy\",\n",
       " \"seventy two.<br>StartMs:863.13|EndMs:864.67|Agent:Nineteen seventy two.<br>StartMs:867.75|EndMs:869.45|customer:Seventy two, seventy.<br>StartMs:871.165|EndMs:876.385|customer:Maybe even before that. No. I think seventy is I could go back to seventy.<br>StartMs:877.405|EndMs:894.005|customer:Can I be tough? I didn't wash her yesterday. Yeah. I I just said that every day. Yeah. Well, once a week, Lynn Lina. Because look at excuse me. Excuse me. For me? Lina. Renee. Excuse me. Just give me a few\",\n",
       " \"Lynn Lina. Because look at excuse me. Excuse me. For me? Lina. Renee. Excuse me. Just give me a few minutes. I want shower here again. Do it again. Look.<br>StartMs:877.91|EndMs:878.41|Agent:Okay.<br>StartMs:881.51|EndMs:883.53|Agent:And would you say it was nineteen?<br>StartMs:892.055|EndMs:892.555|Agent:Okay.<br>StartMs:897.4|EndMs:898.54|customer:Okay. Go ahead, ma'am.<br>StartMs:899.87|EndMs:906.975|Agent:When would you say well, would you say that you start the baby powder in nineteen\",\n",
       " \"would you say well, would you say that you start the baby powder in nineteen seventy two also or just the shower to shower?<br>StartMs:906.895|EndMs:919.2|customer:Probably so. No. I used to we used the the products. That's what I'm I'm trying to say. I used to use them because that's what we had. And I think I can go back because I'm trying trying to think for my the the the<br>StartMs:920.535|EndMs:927.195|customer:as far back as I can remember is when my son was born, probably. That's a that\",\n",
       " \"far back as I can remember is when my son was born, probably. That's a that that's as far back as I can go.<br>StartMs:927.54|EndMs:930.28|Agent:Okay. And when was the last time you used it?<br>StartMs:930.93|EndMs:936.39|customer:Oh, I don't know. All that time, I guess up until maybe before<br>StartMs:937.805|EndMs:947.265|customer:I my son was I don't know. When he was already maybe two years old. I don't remember, ma'am. Those are things that I don't we I didn't pay attention\",\n",
       " \"two years old. I don't remember, ma'am. Those are things that I don't we I didn't pay attention to.<br>StartMs:948.66|EndMs:951.56|Agent:Okay. So I will need to know the best estimate.<br>StartMs:952.42|EndMs:958.495|Agent:What so was your son born in nineteen seventy two, or he was born after that<br>StartMs:957.625|EndMs:960.845|customer:He was in nineteen seventy. And then<br>StartMs:960.155|EndMs:960.895|Agent:in nineteen<br>StartMs:961.785|EndMs:972.68|customer:and then my my other son was\",\n",
       " \"nineteen<br>StartMs:961.785|EndMs:972.68|customer:and then my my other son was born in nineteen seventy two. But I and and I use them all the time, so I I don't know to tell you really because, you know, you don't pay attention to those things.<br>StartMs:973.065|EndMs:973.565|Agent:Okay.<br>StartMs:976.985|EndMs:982.73|Agent:So you mentioned that when your son was two years old, you stopped using it. Is that correct?<br>StartMs:985.67|EndMs:1001.23|customer:I think so. I'm I'm not sure what\",\n",
       " \"it. Is that correct?<br>StartMs:985.67|EndMs:1001.23|customer:I think so. I'm I'm not sure what happened or if if I still continued using it, but I don't think I because I think it was past the age of using it. And I've been since I had to buy it for him, I used to use it too, you know, all the time.<br>StartMs:1002.4|EndMs:1002.9|Agent:Mhmm.<br>StartMs:1003.84|EndMs:1006.74|Agent:So when would you say you stop using it on yourself?<br>StartMs:1007.765|EndMs:1011.705|customer:Oh my goodness.\",\n",
       " \"you say you stop using it on yourself?<br>StartMs:1007.765|EndMs:1011.705|customer:Oh my goodness. Again. I don't know.<br>StartMs:1013.405|EndMs:1013.905|Agent:Okay.<br>StartMs:1013.845|EndMs:1017.54|customer:Probably, like I said, when he was maybe two years old. I'm I'm not certain.<br>StartMs:1018.365|EndMs:1021.94|Agent:Okay. So in nineteen seventy four, that's when he was<br>StartMs:1025.28|EndMs:1025.78|Agent:two.<br>StartMs:1034.935|EndMs:1043.18|Agent:And is it the same for the shower\",\n",
       " \"is it the same for the shower to shower? Did you stop using it when he was also two years old at the shower to shower? Or<br>StartMs:1042.405|EndMs:1048.665|customer:No. I kept using the shower to shower. No. And then and then and then what was it?<br>StartMs:1050.56|EndMs:1059.845|customer:Something else came along, and I stopped using it. I liked it better. But it wasn't until way after that that something else came, you know, because that's all we didn't have choice of\",\n",
       " \"way after that that something else came, you know, because that's all we didn't have choice of much.<br>StartMs:1061.765|EndMs:1071.25|customer:So something else came up. I don't even remember what it was. I think it was I don't know. Some purple. I I remember the color of the of the thing, but I don't remember what it was like.<br>StartMs:1074.91|EndMs:1075.89|customer:I don't remember.<br>StartMs:1077.135|EndMs:1107.36|customer:And I liked it better, so I stopped using it. I don't I don't\",\n",
       " \"I liked it better, so I stopped using it. I don't I don't really remember, ma'am. I don't remember those those dates. I don't remember because you don't pay attention when you stop, when you start, you know, just at random. Yeah. I'm I'm just talking to you because I don't really remember. But I do remember that something else came, and my son didn't need it. So I started using some something else. It was something purple. I don't even remember the name of it, but it was a purple little a\",\n",
       " \"else. It was something purple. I don't even remember the name of it, but it was a purple little a container of shower to shower.<br>StartMs:1077.27|EndMs:1077.77|Agent:Okay.<br>StartMs:1109|EndMs:1112.14|Agent:Okay. And when would you say you stopped using the shower to shower?<br>StartMs:1112.765|EndMs:1121.81|customer:I tell you about when my son was about two years old, and after that sometime after that, I don't remember, Maybe two thousand<br>StartMs:1122.67|EndMs:1127.965|customer:three\",\n",
       " \"after that, I don't remember, Maybe two thousand<br>StartMs:1122.67|EndMs:1127.965|customer:three or four, something other than that came on the market, and I started using it.<br>StartMs:1128.765|EndMs:1132.305|Agent:Okay. So two thousand three or two thousand four.<br>StartMs:1138.98|EndMs:1142.865|Agent:And what city do you live in now? Well, what state? I'm sorry.<br>StartMs:1141.8|EndMs:1142.94|customer:I live in Pomona,<br>StartMs:1143.825|EndMs:1144.805|Agent:In what\",\n",
       " \"live in Pomona,<br>StartMs:1143.825|EndMs:1144.805|Agent:In what state?<br>StartMs:1144.2|EndMs:1144.7|customer:California,<br>StartMs:1145.745|EndMs:1146.245|Agent:California.<br>StartMs:1145.995|EndMs:1146.495|customer:California.<br>StartMs:1159.78|EndMs:1160.28|Agent:Okay.<br>StartMs:1165.345|EndMs:1180.295|Agent:So, unfortunately, we cannot accept your potential case at this time. As such, we're not able to represent you and will not be filing a lawsuit on your behalf. But this does not\",\n",
       " \"we're not able to represent you and will not be filing a lawsuit on your behalf. But this does not mean you don't have a case, so I recommend you to reach out to another law firm for a second opinion. Do you have any questions for me?<br>StartMs:1182.075|EndMs:1207.83|customer:No. Except that I went through all that, and then you tell me that I don't even qualify. So that's why that's the reason that I gave up with the others because I heard from different people that you go through a whole lot\",\n",
       " \"I gave up with the others because I heard from different people that you go through a whole lot of questions and this and that and the other, and then they tell you we don't qualify. So then you give all your information. You get the law firm has all your information, and then you don't even qualify. And that's the reason that I was so turned off. You know?<br>StartMs:1208.62|EndMs:1210|Agent:I'm sorry to hear this.<br>StartMs:1208.77|EndMs:1210.23|customer:And I don't think that's\",\n",
       " \"sorry to hear this.<br>StartMs:1208.77|EndMs:1210.23|customer:And I don't think that's right.<br>StartMs:1211.685|EndMs:1226.74|Agent:I'm sorry to hear that. But it's the questionnaire I put you on based on what you gave me into the questionnaire, and you do not qualify. But this does not mean you don't have a case. As I stated, you're just not with the Saddle Rock Legal Group.<br>StartMs:1227.53|EndMs:1233.585|customer:What what was the what what didn't I qualify for about? I had the I had the\",\n",
       " \"what was the what what didn't I qualify for about? I had the I had the surgery.<br>StartMs:1231.905|EndMs:1232.645|Agent:So there's<br>StartMs:1234.625|EndMs:1240.03|Agent:so there's the current lack of evidence to see our case criteria based on what you told me.<br>StartMs:1234.765|EndMs:1235.905|customer:I had the cancer.<br>StartMs:1241.06|EndMs:1250.415|customer:Well, you know, you shouldn't have that out there because so many people don't remember. I mean, you don't remember when you\",\n",
       " \"have that out there because so many people don't remember. I mean, you don't remember when you stopped, when you started out because there's there I mean, it doesn't<br>StartMs:1251.435|EndMs:1261.08|customer:it doesn't come to mind. Okay. I started using this product. I start I stopped using this product and this and that. You don't make notes of those things, you know, when it's been so long.<br>StartMs:1262.275|EndMs:1266.055|customer:And I don't think it's fair. They put they\",\n",
       " \"so long.<br>StartMs:1262.275|EndMs:1266.055|customer:And I don't think it's fair. They put they they<br>StartMs:1267.155|EndMs:1287.74|customer:they they put this advertisement out, and then you give all your information, and then the law firm has all your information. And how do I know that you're really a real, real legal place? How do I know? How do I know I'm talking to somebody that's really a righteous firm? I know that I I remember the name of it, but I don't know that you\",\n",
       " \"that's really a righteous firm? I know that I I remember the name of it, but I don't know that you are.<br>StartMs:1280.805|EndMs:1281.305|Agent:Okay.<br>StartMs:1288.62|EndMs:1291.68|Agent:Okay. Yes. We are. So thank you so much for speaking.<br>StartMs:1290.14|EndMs:1292.56|customer:You might be somebody that just wants all my information.<br>StartMs:1293.705|EndMs:1298.285|Agent:Alright. Thank you so much for taking the time to speak with me at Federal Legal Group. Have a great day.\"]"
      ]
     },
     "execution_count": 80,
     "metadata": {},
     "output_type": "execute_result"
    }
   ],
   "execution_count": 80
  },
  {
   "metadata": {
    "ExecuteTime": {
     "end_time": "2025-03-02T08:02:19.845193Z",
     "start_time": "2025-03-02T08:02:19.430403Z"
    }
   },
   "cell_type": "code",
   "source": "encoder.fit(corpus)",
   "id": "aa9f219e34a01cf",
   "outputs": [
    {
     "name": "stderr",
     "output_type": "stream",
     "text": [
      "100%|██████████| 69/69 [00:00<00:00, 499.30it/s]\n"
     ]
    },
    {
     "data": {
      "text/plain": [
       "<pinecone_text.sparse.bm25_encoder.BM25Encoder at 0x115fbafc0>"
      ]
     },
     "execution_count": 81,
     "metadata": {},
     "output_type": "execute_result"
    }
   ],
   "execution_count": 81
  },
  {
   "metadata": {
    "ExecuteTime": {
     "end_time": "2025-03-02T08:06:05.138598Z",
     "start_time": "2025-03-02T08:06:05.123575Z"
    }
   },
   "cell_type": "code",
   "source": "encoder.dump('sparse.json')",
   "id": "9a9754db3a464979",
   "outputs": [],
   "execution_count": 85
  },
  {
   "metadata": {
    "ExecuteTime": {
     "end_time": "2025-03-02T08:06:27.747803Z",
     "start_time": "2025-03-02T08:06:27.727456Z"
    }
   },
   "cell_type": "code",
   "source": "BM25 = BM25Encoder().load('sparse.json')",
   "id": "76522b26a20ba619",
   "outputs": [],
   "execution_count": 86
  },
  {
   "metadata": {},
   "cell_type": "code",
   "outputs": [],
   "execution_count": null,
   "source": "encoder.load()",
   "id": "a3d9958e43c60db5"
  },
  {
   "metadata": {
    "ExecuteTime": {
     "end_time": "2025-03-02T08:06:32.907953Z",
     "start_time": "2025-03-02T08:06:32.895666Z"
    }
   },
   "cell_type": "code",
   "source": [
    "retreiver=PineconeHybridSearchRetriever(\n",
    "    index=index,\n",
    "    sparse_encoder=BM25,\n",
    "    embeddings=embeddings\n",
    ")"
   ],
   "id": "92ec1466ca2353fb",
   "outputs": [],
   "execution_count": 87
  },
  {
   "metadata": {
    "ExecuteTime": {
     "end_time": "2025-03-02T08:07:29.699581Z",
     "start_time": "2025-03-02T08:07:29.686783Z"
    }
   },
   "cell_type": "code",
   "source": "retreiver",
   "id": "c4fb758ed9d3820c",
   "outputs": [
    {
     "data": {
      "text/plain": [
       "PineconeHybridSearchRetriever(embeddings=OpenAIEmbeddings(client=<openai.resources.embeddings.Embeddings object at 0x112b6e6f0>, async_client=<openai.resources.embeddings.AsyncEmbeddings object at 0x114e22180>, model='text-embedding-3-small', dimensions=None, deployment='text-embedding-ada-002', openai_api_version=None, openai_api_base=None, openai_api_type=None, openai_proxy=None, embedding_ctx_length=8191, openai_api_key=SecretStr('**********'), openai_organization=None, allowed_special=None, disallowed_special=None, chunk_size=1000, max_retries=2, request_timeout=None, headers=None, tiktoken_enabled=True, tiktoken_model_name=None, show_progress_bar=False, model_kwargs={}, skip_empty=False, default_headers=None, default_query=None, retry_min_seconds=4, retry_max_seconds=20, http_client=None, http_async_client=None, check_embedding_ctx_length=True), sparse_encoder=<pinecone_text.sparse.bm25_encoder.BM25Encoder object at 0x134a06d50>, index=<pinecone.data.index.Index object at 0x11295afc0>)"
      ]
     },
     "execution_count": 89,
     "metadata": {},
     "output_type": "execute_result"
    }
   ],
   "execution_count": 89
  },
  {
   "metadata": {
    "ExecuteTime": {
     "end_time": "2025-03-02T08:08:36.740882Z",
     "start_time": "2025-03-02T08:08:25.930566Z"
    }
   },
   "cell_type": "code",
   "source": [
    "retreiver.add_texts(\n",
    "    texts=corpus\n",
    ")"
   ],
   "id": "515f571c76f222d7",
   "outputs": [
    {
     "name": "stderr",
     "output_type": "stream",
     "text": [
      "100%|██████████| 3/3 [00:10<00:00,  3.60s/it]\n"
     ]
    }
   ],
   "execution_count": 90
  },
  {
   "metadata": {
    "ExecuteTime": {
     "end_time": "2025-03-02T08:08:49.797832Z",
     "start_time": "2025-03-02T08:08:48.532263Z"
    }
   },
   "cell_type": "code",
   "source": "retreiver.invoke(\"Agent name\")",
   "id": "ba8ef4ac48b9fb7a",
   "outputs": [
    {
     "data": {
      "text/plain": [
       "[Document(metadata={'score': 0.307389528}, page_content='name is Martha.<br>StartMs:403.34|EndMs:405.04|Agent:Martha. And your last name?<br>StartMs:405.745|EndMs:406.245|customer:Copas,<br>StartMs:407.42|EndMs:409.36|Agent:Could you spell that for me, please?<br>StartMs:409.985|EndMs:411.445|customer:b o p a s.<br>StartMs:414.715|EndMs:415.215|Agent:Okay.<br>StartMs:425.8|EndMs:435.055|Agent:Alright. So I just have to state this. I stated it with your daughter already, but I have to because you are I just have to make sure that'),\n",
       " Document(metadata={'score': 0.289944172}, page_content='took it upon herself because she found the she found it<br>StartMs:388.34|EndMs:389.33|Agent:Just okay.<br>StartMs:392.775|EndMs:396.15|customer:the the claim for the the cancer powder<br>StartMs:397.49|EndMs:397.99|customer:lawyers.<br>StartMs:398.655|EndMs:400.835|Agent:Okay. What is your first name,<br>StartMs:401.49|EndMs:402.55|customer:My name is Martha.<br>StartMs:403.34|EndMs:405.04|Agent:Martha. And your last'),\n",
       " Document(metadata={'score': 0.251638293}, page_content=\"that's really a righteous firm? I know that I I remember the name of it, but I don't know that you are.<br>StartMs:1280.805|EndMs:1281.305|Agent:Okay.<br>StartMs:1288.62|EndMs:1291.68|Agent:Okay. Yes. We are. So thank you so much for speaking.<br>StartMs:1290.14|EndMs:1292.56|customer:You might be somebody that just wants all my information.<br>StartMs:1293.705|EndMs:1298.285|Agent:Alright. Thank you so much for taking the time to speak with me at Federal Legal Group. Have a great day.\"),\n",
       " Document(metadata={'score': 0.239851743}, page_content=\"firm for this matter?<br>StartMs:570.83|EndMs:573.445|customer:Yes. I have never had no advice from no one.<br>StartMs:574.22|EndMs:581.835|Agent:Okay. And you haven't previously signed documents either physically or electronically regarding this matter with any other firm?<br>StartMs:582.6|EndMs:592.485|customer:No. None. The the firm that I I forgot what the name of the firm is, but I have I have the paperwork. They just they took the claim, but they<br>StartMs:593.345|EndMs:607.8|customer:I\")]"
      ]
     },
     "execution_count": 91,
     "metadata": {},
     "output_type": "execute_result"
    }
   ],
   "execution_count": 91
  },
  {
   "metadata": {},
   "cell_type": "code",
   "outputs": [],
   "execution_count": null,
   "source": "retreiver.aget_relevant_documents(\"Agent name\")",
   "id": "b6ddaf0a325e348c"
  }
 ],
 "metadata": {
  "kernelspec": {
   "display_name": "Python 3",
   "language": "python",
   "name": "python3"
  },
  "language_info": {
   "codemirror_mode": {
    "name": "ipython",
    "version": 2
   },
   "file_extension": ".py",
   "mimetype": "text/x-python",
   "name": "python",
   "nbconvert_exporter": "python",
   "pygments_lexer": "ipython2",
   "version": "2.7.6"
  }
 },
 "nbformat": 4,
 "nbformat_minor": 5
}
